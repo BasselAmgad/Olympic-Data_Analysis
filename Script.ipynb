{
 "cells": [
  {
   "cell_type": "code",
   "execution_count": 1,
   "id": "245ec38b",
   "metadata": {
    "id": "245ec38b"
   },
   "outputs": [],
   "source": [
    "import matplotlib.pyplot as plt\n",
    "import seaborn as sns\n",
    "import pandas as pd\n",
    "import warnings\n",
    "warnings.filterwarnings('ignore')\n",
    "import numpy as np"
   ]
  },
  {
   "cell_type": "code",
   "execution_count": 2,
   "id": "99692107",
   "metadata": {
    "id": "99692107"
   },
   "outputs": [],
   "source": [
    "df_olympic = pd.read_csv('athlete_events.csv')"
   ]
  },
  {
   "cell_type": "code",
   "execution_count": 3,
   "id": "0cd93a75",
   "metadata": {
    "colab": {
     "base_uri": "https://localhost:8080/",
     "height": 355
    },
    "id": "0cd93a75",
    "outputId": "f58051d5-392b-4cd1-ac69-6c1c4d50536e"
   },
   "outputs": [
    {
     "data": {
      "text/html": [
       "<div>\n",
       "<style scoped>\n",
       "    .dataframe tbody tr th:only-of-type {\n",
       "        vertical-align: middle;\n",
       "    }\n",
       "\n",
       "    .dataframe tbody tr th {\n",
       "        vertical-align: top;\n",
       "    }\n",
       "\n",
       "    .dataframe thead th {\n",
       "        text-align: right;\n",
       "    }\n",
       "</style>\n",
       "<table border=\"1\" class=\"dataframe\">\n",
       "  <thead>\n",
       "    <tr style=\"text-align: right;\">\n",
       "      <th></th>\n",
       "      <th>ID</th>\n",
       "      <th>Name</th>\n",
       "      <th>Sex</th>\n",
       "      <th>Age</th>\n",
       "      <th>Height</th>\n",
       "      <th>Weight</th>\n",
       "      <th>Team</th>\n",
       "      <th>NOC</th>\n",
       "      <th>Games</th>\n",
       "      <th>Year</th>\n",
       "      <th>Season</th>\n",
       "      <th>City</th>\n",
       "      <th>Sport</th>\n",
       "      <th>Event</th>\n",
       "      <th>Medal</th>\n",
       "    </tr>\n",
       "  </thead>\n",
       "  <tbody>\n",
       "    <tr>\n",
       "      <th>0</th>\n",
       "      <td>1</td>\n",
       "      <td>A Dijiang</td>\n",
       "      <td>M</td>\n",
       "      <td>24.0</td>\n",
       "      <td>180.0</td>\n",
       "      <td>80.0</td>\n",
       "      <td>China</td>\n",
       "      <td>CHN</td>\n",
       "      <td>1992 Summer</td>\n",
       "      <td>1992</td>\n",
       "      <td>Summer</td>\n",
       "      <td>Barcelona</td>\n",
       "      <td>Basketball</td>\n",
       "      <td>Basketball Men's Basketball</td>\n",
       "      <td>NaN</td>\n",
       "    </tr>\n",
       "    <tr>\n",
       "      <th>1</th>\n",
       "      <td>2</td>\n",
       "      <td>A Lamusi</td>\n",
       "      <td>M</td>\n",
       "      <td>23.0</td>\n",
       "      <td>170.0</td>\n",
       "      <td>60.0</td>\n",
       "      <td>China</td>\n",
       "      <td>CHN</td>\n",
       "      <td>2012 Summer</td>\n",
       "      <td>2012</td>\n",
       "      <td>Summer</td>\n",
       "      <td>London</td>\n",
       "      <td>Judo</td>\n",
       "      <td>Judo Men's Extra-Lightweight</td>\n",
       "      <td>NaN</td>\n",
       "    </tr>\n",
       "    <tr>\n",
       "      <th>2</th>\n",
       "      <td>3</td>\n",
       "      <td>Gunnar Nielsen Aaby</td>\n",
       "      <td>M</td>\n",
       "      <td>24.0</td>\n",
       "      <td>NaN</td>\n",
       "      <td>NaN</td>\n",
       "      <td>Denmark</td>\n",
       "      <td>DEN</td>\n",
       "      <td>1920 Summer</td>\n",
       "      <td>1920</td>\n",
       "      <td>Summer</td>\n",
       "      <td>Antwerpen</td>\n",
       "      <td>Football</td>\n",
       "      <td>Football Men's Football</td>\n",
       "      <td>NaN</td>\n",
       "    </tr>\n",
       "    <tr>\n",
       "      <th>3</th>\n",
       "      <td>4</td>\n",
       "      <td>Edgar Lindenau Aabye</td>\n",
       "      <td>M</td>\n",
       "      <td>34.0</td>\n",
       "      <td>NaN</td>\n",
       "      <td>NaN</td>\n",
       "      <td>Denmark/Sweden</td>\n",
       "      <td>DEN</td>\n",
       "      <td>1900 Summer</td>\n",
       "      <td>1900</td>\n",
       "      <td>Summer</td>\n",
       "      <td>Paris</td>\n",
       "      <td>Tug-Of-War</td>\n",
       "      <td>Tug-Of-War Men's Tug-Of-War</td>\n",
       "      <td>Gold</td>\n",
       "    </tr>\n",
       "    <tr>\n",
       "      <th>4</th>\n",
       "      <td>5</td>\n",
       "      <td>Christine Jacoba Aaftink</td>\n",
       "      <td>F</td>\n",
       "      <td>21.0</td>\n",
       "      <td>185.0</td>\n",
       "      <td>82.0</td>\n",
       "      <td>Netherlands</td>\n",
       "      <td>NED</td>\n",
       "      <td>1988 Winter</td>\n",
       "      <td>1988</td>\n",
       "      <td>Winter</td>\n",
       "      <td>Calgary</td>\n",
       "      <td>Speed Skating</td>\n",
       "      <td>Speed Skating Women's 500 metres</td>\n",
       "      <td>NaN</td>\n",
       "    </tr>\n",
       "    <tr>\n",
       "      <th>5</th>\n",
       "      <td>5</td>\n",
       "      <td>Christine Jacoba Aaftink</td>\n",
       "      <td>F</td>\n",
       "      <td>21.0</td>\n",
       "      <td>185.0</td>\n",
       "      <td>82.0</td>\n",
       "      <td>Netherlands</td>\n",
       "      <td>NED</td>\n",
       "      <td>1988 Winter</td>\n",
       "      <td>1988</td>\n",
       "      <td>Winter</td>\n",
       "      <td>Calgary</td>\n",
       "      <td>Speed Skating</td>\n",
       "      <td>Speed Skating Women's 1,000 metres</td>\n",
       "      <td>NaN</td>\n",
       "    </tr>\n",
       "    <tr>\n",
       "      <th>6</th>\n",
       "      <td>5</td>\n",
       "      <td>Christine Jacoba Aaftink</td>\n",
       "      <td>F</td>\n",
       "      <td>25.0</td>\n",
       "      <td>185.0</td>\n",
       "      <td>82.0</td>\n",
       "      <td>Netherlands</td>\n",
       "      <td>NED</td>\n",
       "      <td>1992 Winter</td>\n",
       "      <td>1992</td>\n",
       "      <td>Winter</td>\n",
       "      <td>Albertville</td>\n",
       "      <td>Speed Skating</td>\n",
       "      <td>Speed Skating Women's 500 metres</td>\n",
       "      <td>NaN</td>\n",
       "    </tr>\n",
       "    <tr>\n",
       "      <th>7</th>\n",
       "      <td>5</td>\n",
       "      <td>Christine Jacoba Aaftink</td>\n",
       "      <td>F</td>\n",
       "      <td>25.0</td>\n",
       "      <td>185.0</td>\n",
       "      <td>82.0</td>\n",
       "      <td>Netherlands</td>\n",
       "      <td>NED</td>\n",
       "      <td>1992 Winter</td>\n",
       "      <td>1992</td>\n",
       "      <td>Winter</td>\n",
       "      <td>Albertville</td>\n",
       "      <td>Speed Skating</td>\n",
       "      <td>Speed Skating Women's 1,000 metres</td>\n",
       "      <td>NaN</td>\n",
       "    </tr>\n",
       "    <tr>\n",
       "      <th>8</th>\n",
       "      <td>5</td>\n",
       "      <td>Christine Jacoba Aaftink</td>\n",
       "      <td>F</td>\n",
       "      <td>27.0</td>\n",
       "      <td>185.0</td>\n",
       "      <td>82.0</td>\n",
       "      <td>Netherlands</td>\n",
       "      <td>NED</td>\n",
       "      <td>1994 Winter</td>\n",
       "      <td>1994</td>\n",
       "      <td>Winter</td>\n",
       "      <td>Lillehammer</td>\n",
       "      <td>Speed Skating</td>\n",
       "      <td>Speed Skating Women's 500 metres</td>\n",
       "      <td>NaN</td>\n",
       "    </tr>\n",
       "    <tr>\n",
       "      <th>9</th>\n",
       "      <td>5</td>\n",
       "      <td>Christine Jacoba Aaftink</td>\n",
       "      <td>F</td>\n",
       "      <td>27.0</td>\n",
       "      <td>185.0</td>\n",
       "      <td>82.0</td>\n",
       "      <td>Netherlands</td>\n",
       "      <td>NED</td>\n",
       "      <td>1994 Winter</td>\n",
       "      <td>1994</td>\n",
       "      <td>Winter</td>\n",
       "      <td>Lillehammer</td>\n",
       "      <td>Speed Skating</td>\n",
       "      <td>Speed Skating Women's 1,000 metres</td>\n",
       "      <td>NaN</td>\n",
       "    </tr>\n",
       "  </tbody>\n",
       "</table>\n",
       "</div>"
      ],
      "text/plain": [
       "   ID                      Name Sex   Age  Height  Weight            Team  \\\n",
       "0   1                 A Dijiang   M  24.0   180.0    80.0           China   \n",
       "1   2                  A Lamusi   M  23.0   170.0    60.0           China   \n",
       "2   3       Gunnar Nielsen Aaby   M  24.0     NaN     NaN         Denmark   \n",
       "3   4      Edgar Lindenau Aabye   M  34.0     NaN     NaN  Denmark/Sweden   \n",
       "4   5  Christine Jacoba Aaftink   F  21.0   185.0    82.0     Netherlands   \n",
       "5   5  Christine Jacoba Aaftink   F  21.0   185.0    82.0     Netherlands   \n",
       "6   5  Christine Jacoba Aaftink   F  25.0   185.0    82.0     Netherlands   \n",
       "7   5  Christine Jacoba Aaftink   F  25.0   185.0    82.0     Netherlands   \n",
       "8   5  Christine Jacoba Aaftink   F  27.0   185.0    82.0     Netherlands   \n",
       "9   5  Christine Jacoba Aaftink   F  27.0   185.0    82.0     Netherlands   \n",
       "\n",
       "   NOC        Games  Year  Season         City          Sport  \\\n",
       "0  CHN  1992 Summer  1992  Summer    Barcelona     Basketball   \n",
       "1  CHN  2012 Summer  2012  Summer       London           Judo   \n",
       "2  DEN  1920 Summer  1920  Summer    Antwerpen       Football   \n",
       "3  DEN  1900 Summer  1900  Summer        Paris     Tug-Of-War   \n",
       "4  NED  1988 Winter  1988  Winter      Calgary  Speed Skating   \n",
       "5  NED  1988 Winter  1988  Winter      Calgary  Speed Skating   \n",
       "6  NED  1992 Winter  1992  Winter  Albertville  Speed Skating   \n",
       "7  NED  1992 Winter  1992  Winter  Albertville  Speed Skating   \n",
       "8  NED  1994 Winter  1994  Winter  Lillehammer  Speed Skating   \n",
       "9  NED  1994 Winter  1994  Winter  Lillehammer  Speed Skating   \n",
       "\n",
       "                                Event Medal  \n",
       "0         Basketball Men's Basketball   NaN  \n",
       "1        Judo Men's Extra-Lightweight   NaN  \n",
       "2             Football Men's Football   NaN  \n",
       "3         Tug-Of-War Men's Tug-Of-War  Gold  \n",
       "4    Speed Skating Women's 500 metres   NaN  \n",
       "5  Speed Skating Women's 1,000 metres   NaN  \n",
       "6    Speed Skating Women's 500 metres   NaN  \n",
       "7  Speed Skating Women's 1,000 metres   NaN  \n",
       "8    Speed Skating Women's 500 metres   NaN  \n",
       "9  Speed Skating Women's 1,000 metres   NaN  "
      ]
     },
     "execution_count": 3,
     "metadata": {},
     "output_type": "execute_result"
    }
   ],
   "source": [
    "df_olympic.head(10)"
   ]
  },
  {
   "cell_type": "markdown",
   "id": "4b731d1f",
   "metadata": {},
   "source": [
    "Data Describtion"
   ]
  },
  {
   "cell_type": "code",
   "execution_count": 4,
   "id": "373fc984",
   "metadata": {},
   "outputs": [
    {
     "data": {
      "text/plain": [
       "ID          int64\n",
       "Name       object\n",
       "Sex        object\n",
       "Age       float64\n",
       "Height    float64\n",
       "Weight    float64\n",
       "Team       object\n",
       "NOC        object\n",
       "Games      object\n",
       "Year        int64\n",
       "Season     object\n",
       "City       object\n",
       "Sport      object\n",
       "Event      object\n",
       "Medal      object\n",
       "dtype: object"
      ]
     },
     "execution_count": 4,
     "metadata": {},
     "output_type": "execute_result"
    }
   ],
   "source": [
    "df_olympic.dtypes"
   ]
  },
  {
   "cell_type": "code",
   "execution_count": 5,
   "id": "d13109f3",
   "metadata": {},
   "outputs": [
    {
     "data": {
      "text/html": [
       "<div>\n",
       "<style scoped>\n",
       "    .dataframe tbody tr th:only-of-type {\n",
       "        vertical-align: middle;\n",
       "    }\n",
       "\n",
       "    .dataframe tbody tr th {\n",
       "        vertical-align: top;\n",
       "    }\n",
       "\n",
       "    .dataframe thead th {\n",
       "        text-align: right;\n",
       "    }\n",
       "</style>\n",
       "<table border=\"1\" class=\"dataframe\">\n",
       "  <thead>\n",
       "    <tr style=\"text-align: right;\">\n",
       "      <th></th>\n",
       "      <th>Age</th>\n",
       "      <th>Height</th>\n",
       "      <th>Weight</th>\n",
       "    </tr>\n",
       "  </thead>\n",
       "  <tbody>\n",
       "    <tr>\n",
       "      <th>count</th>\n",
       "      <td>261642.000000</td>\n",
       "      <td>210945.000000</td>\n",
       "      <td>208241.000000</td>\n",
       "    </tr>\n",
       "    <tr>\n",
       "      <th>mean</th>\n",
       "      <td>25.556898</td>\n",
       "      <td>175.338970</td>\n",
       "      <td>70.702393</td>\n",
       "    </tr>\n",
       "    <tr>\n",
       "      <th>std</th>\n",
       "      <td>6.393561</td>\n",
       "      <td>10.518462</td>\n",
       "      <td>14.348020</td>\n",
       "    </tr>\n",
       "    <tr>\n",
       "      <th>min</th>\n",
       "      <td>10.000000</td>\n",
       "      <td>127.000000</td>\n",
       "      <td>25.000000</td>\n",
       "    </tr>\n",
       "    <tr>\n",
       "      <th>25%</th>\n",
       "      <td>21.000000</td>\n",
       "      <td>168.000000</td>\n",
       "      <td>60.000000</td>\n",
       "    </tr>\n",
       "    <tr>\n",
       "      <th>50%</th>\n",
       "      <td>24.000000</td>\n",
       "      <td>175.000000</td>\n",
       "      <td>70.000000</td>\n",
       "    </tr>\n",
       "    <tr>\n",
       "      <th>75%</th>\n",
       "      <td>28.000000</td>\n",
       "      <td>183.000000</td>\n",
       "      <td>79.000000</td>\n",
       "    </tr>\n",
       "    <tr>\n",
       "      <th>max</th>\n",
       "      <td>97.000000</td>\n",
       "      <td>226.000000</td>\n",
       "      <td>214.000000</td>\n",
       "    </tr>\n",
       "  </tbody>\n",
       "</table>\n",
       "</div>"
      ],
      "text/plain": [
       "                 Age         Height         Weight\n",
       "count  261642.000000  210945.000000  208241.000000\n",
       "mean       25.556898     175.338970      70.702393\n",
       "std         6.393561      10.518462      14.348020\n",
       "min        10.000000     127.000000      25.000000\n",
       "25%        21.000000     168.000000      60.000000\n",
       "50%        24.000000     175.000000      70.000000\n",
       "75%        28.000000     183.000000      79.000000\n",
       "max        97.000000     226.000000     214.000000"
      ]
     },
     "execution_count": 5,
     "metadata": {},
     "output_type": "execute_result"
    }
   ],
   "source": [
    "df_olympic[['Age', 'Height', 'Weight']].describe()"
   ]
  },
  {
   "cell_type": "code",
   "execution_count": 6,
   "id": "ad73e67c",
   "metadata": {},
   "outputs": [
    {
     "data": {
      "text/html": [
       "<div>\n",
       "<style scoped>\n",
       "    .dataframe tbody tr th:only-of-type {\n",
       "        vertical-align: middle;\n",
       "    }\n",
       "\n",
       "    .dataframe tbody tr th {\n",
       "        vertical-align: top;\n",
       "    }\n",
       "\n",
       "    .dataframe thead th {\n",
       "        text-align: right;\n",
       "    }\n",
       "</style>\n",
       "<table border=\"1\" class=\"dataframe\">\n",
       "  <thead>\n",
       "    <tr style=\"text-align: right;\">\n",
       "      <th></th>\n",
       "      <th>Name</th>\n",
       "      <th>Sex</th>\n",
       "      <th>Team</th>\n",
       "      <th>NOC</th>\n",
       "      <th>Games</th>\n",
       "      <th>Season</th>\n",
       "      <th>City</th>\n",
       "      <th>Sport</th>\n",
       "      <th>Event</th>\n",
       "      <th>Medal</th>\n",
       "    </tr>\n",
       "  </thead>\n",
       "  <tbody>\n",
       "    <tr>\n",
       "      <th>count</th>\n",
       "      <td>271116</td>\n",
       "      <td>271116</td>\n",
       "      <td>271116</td>\n",
       "      <td>271116</td>\n",
       "      <td>271116</td>\n",
       "      <td>271116</td>\n",
       "      <td>271116</td>\n",
       "      <td>271116</td>\n",
       "      <td>271116</td>\n",
       "      <td>39783</td>\n",
       "    </tr>\n",
       "    <tr>\n",
       "      <th>unique</th>\n",
       "      <td>134732</td>\n",
       "      <td>2</td>\n",
       "      <td>1184</td>\n",
       "      <td>230</td>\n",
       "      <td>51</td>\n",
       "      <td>2</td>\n",
       "      <td>42</td>\n",
       "      <td>66</td>\n",
       "      <td>765</td>\n",
       "      <td>3</td>\n",
       "    </tr>\n",
       "    <tr>\n",
       "      <th>top</th>\n",
       "      <td>Robert Tait McKenzie</td>\n",
       "      <td>M</td>\n",
       "      <td>United States</td>\n",
       "      <td>USA</td>\n",
       "      <td>2000 Summer</td>\n",
       "      <td>Summer</td>\n",
       "      <td>London</td>\n",
       "      <td>Athletics</td>\n",
       "      <td>Football Men's Football</td>\n",
       "      <td>Gold</td>\n",
       "    </tr>\n",
       "    <tr>\n",
       "      <th>freq</th>\n",
       "      <td>58</td>\n",
       "      <td>196594</td>\n",
       "      <td>17847</td>\n",
       "      <td>18853</td>\n",
       "      <td>13821</td>\n",
       "      <td>222552</td>\n",
       "      <td>22426</td>\n",
       "      <td>38624</td>\n",
       "      <td>5733</td>\n",
       "      <td>13372</td>\n",
       "    </tr>\n",
       "  </tbody>\n",
       "</table>\n",
       "</div>"
      ],
      "text/plain": [
       "                        Name     Sex           Team     NOC        Games  \\\n",
       "count                 271116  271116         271116  271116       271116   \n",
       "unique                134732       2           1184     230           51   \n",
       "top     Robert Tait McKenzie       M  United States     USA  2000 Summer   \n",
       "freq                      58  196594          17847   18853        13821   \n",
       "\n",
       "        Season    City      Sport                    Event  Medal  \n",
       "count   271116  271116     271116                   271116  39783  \n",
       "unique       2      42         66                      765      3  \n",
       "top     Summer  London  Athletics  Football Men's Football   Gold  \n",
       "freq    222552   22426      38624                     5733  13372  "
      ]
     },
     "execution_count": 6,
     "metadata": {},
     "output_type": "execute_result"
    }
   ],
   "source": [
    "df_olympic.describe(include = 'object')"
   ]
  },
  {
   "cell_type": "markdown",
   "id": "94819172",
   "metadata": {},
   "source": [
    "### Describing Males and Females in sports"
   ]
  },
  {
   "cell_type": "code",
   "execution_count": 7,
   "id": "36404eb9",
   "metadata": {},
   "outputs": [
    {
     "data": {
      "text/html": [
       "<div>\n",
       "<style scoped>\n",
       "    .dataframe tbody tr th:only-of-type {\n",
       "        vertical-align: middle;\n",
       "    }\n",
       "\n",
       "    .dataframe tbody tr th {\n",
       "        vertical-align: top;\n",
       "    }\n",
       "\n",
       "    .dataframe thead tr th {\n",
       "        text-align: left;\n",
       "    }\n",
       "\n",
       "    .dataframe thead tr:last-of-type th {\n",
       "        text-align: right;\n",
       "    }\n",
       "</style>\n",
       "<table border=\"1\" class=\"dataframe\">\n",
       "  <thead>\n",
       "    <tr>\n",
       "      <th></th>\n",
       "      <th colspan=\"8\" halign=\"left\">ID</th>\n",
       "      <th colspan=\"2\" halign=\"left\">Age</th>\n",
       "      <th>...</th>\n",
       "      <th colspan=\"2\" halign=\"left\">Weight</th>\n",
       "      <th colspan=\"8\" halign=\"left\">Year</th>\n",
       "    </tr>\n",
       "    <tr>\n",
       "      <th></th>\n",
       "      <th>count</th>\n",
       "      <th>mean</th>\n",
       "      <th>std</th>\n",
       "      <th>min</th>\n",
       "      <th>25%</th>\n",
       "      <th>50%</th>\n",
       "      <th>75%</th>\n",
       "      <th>max</th>\n",
       "      <th>count</th>\n",
       "      <th>mean</th>\n",
       "      <th>...</th>\n",
       "      <th>75%</th>\n",
       "      <th>max</th>\n",
       "      <th>count</th>\n",
       "      <th>mean</th>\n",
       "      <th>std</th>\n",
       "      <th>min</th>\n",
       "      <th>25%</th>\n",
       "      <th>50%</th>\n",
       "      <th>75%</th>\n",
       "      <th>max</th>\n",
       "    </tr>\n",
       "    <tr>\n",
       "      <th>Sport</th>\n",
       "      <th></th>\n",
       "      <th></th>\n",
       "      <th></th>\n",
       "      <th></th>\n",
       "      <th></th>\n",
       "      <th></th>\n",
       "      <th></th>\n",
       "      <th></th>\n",
       "      <th></th>\n",
       "      <th></th>\n",
       "      <th></th>\n",
       "      <th></th>\n",
       "      <th></th>\n",
       "      <th></th>\n",
       "      <th></th>\n",
       "      <th></th>\n",
       "      <th></th>\n",
       "      <th></th>\n",
       "      <th></th>\n",
       "      <th></th>\n",
       "      <th></th>\n",
       "    </tr>\n",
       "  </thead>\n",
       "  <tbody>\n",
       "    <tr>\n",
       "      <th>Alpine Skiing</th>\n",
       "      <td>3398.0</td>\n",
       "      <td>67302.975574</td>\n",
       "      <td>37425.139152</td>\n",
       "      <td>126.0</td>\n",
       "      <td>36467.0</td>\n",
       "      <td>64919.0</td>\n",
       "      <td>99394.0</td>\n",
       "      <td>135492.0</td>\n",
       "      <td>3398.0</td>\n",
       "      <td>22.334609</td>\n",
       "      <td>...</td>\n",
       "      <td>66.0</td>\n",
       "      <td>90.0</td>\n",
       "      <td>3398.0</td>\n",
       "      <td>1987.476162</td>\n",
       "      <td>20.121354</td>\n",
       "      <td>1936.0</td>\n",
       "      <td>1972.0</td>\n",
       "      <td>1992.0</td>\n",
       "      <td>2006.0</td>\n",
       "      <td>2014.0</td>\n",
       "    </tr>\n",
       "    <tr>\n",
       "      <th>Alpinism</th>\n",
       "      <td>1.0</td>\n",
       "      <td>31057.000000</td>\n",
       "      <td>NaN</td>\n",
       "      <td>31057.0</td>\n",
       "      <td>31057.0</td>\n",
       "      <td>31057.0</td>\n",
       "      <td>31057.0</td>\n",
       "      <td>31057.0</td>\n",
       "      <td>1.0</td>\n",
       "      <td>43.000000</td>\n",
       "      <td>...</td>\n",
       "      <td>NaN</td>\n",
       "      <td>NaN</td>\n",
       "      <td>1.0</td>\n",
       "      <td>1936.000000</td>\n",
       "      <td>NaN</td>\n",
       "      <td>1936.0</td>\n",
       "      <td>1936.0</td>\n",
       "      <td>1936.0</td>\n",
       "      <td>1936.0</td>\n",
       "      <td>1936.0</td>\n",
       "    </tr>\n",
       "    <tr>\n",
       "      <th>Archery</th>\n",
       "      <td>1015.0</td>\n",
       "      <td>71459.375369</td>\n",
       "      <td>39513.911416</td>\n",
       "      <td>154.0</td>\n",
       "      <td>36474.0</td>\n",
       "      <td>70004.0</td>\n",
       "      <td>104970.0</td>\n",
       "      <td>134488.0</td>\n",
       "      <td>1005.0</td>\n",
       "      <td>26.508458</td>\n",
       "      <td>...</td>\n",
       "      <td>65.0</td>\n",
       "      <td>95.0</td>\n",
       "      <td>1015.0</td>\n",
       "      <td>1994.518227</td>\n",
       "      <td>21.556298</td>\n",
       "      <td>1904.0</td>\n",
       "      <td>1988.0</td>\n",
       "      <td>1996.0</td>\n",
       "      <td>2008.0</td>\n",
       "      <td>2016.0</td>\n",
       "    </tr>\n",
       "    <tr>\n",
       "      <th>Art Competitions</th>\n",
       "      <td>377.0</td>\n",
       "      <td>64952.405836</td>\n",
       "      <td>39643.324650</td>\n",
       "      <td>677.0</td>\n",
       "      <td>27013.0</td>\n",
       "      <td>61502.0</td>\n",
       "      <td>100443.0</td>\n",
       "      <td>135073.0</td>\n",
       "      <td>301.0</td>\n",
       "      <td>44.411960</td>\n",
       "      <td>...</td>\n",
       "      <td>NaN</td>\n",
       "      <td>NaN</td>\n",
       "      <td>377.0</td>\n",
       "      <td>1934.546419</td>\n",
       "      <td>7.560296</td>\n",
       "      <td>1920.0</td>\n",
       "      <td>1932.0</td>\n",
       "      <td>1932.0</td>\n",
       "      <td>1936.0</td>\n",
       "      <td>1948.0</td>\n",
       "    </tr>\n",
       "    <tr>\n",
       "      <th>Athletics</th>\n",
       "      <td>11666.0</td>\n",
       "      <td>68277.684725</td>\n",
       "      <td>39327.454841</td>\n",
       "      <td>8.0</td>\n",
       "      <td>33868.5</td>\n",
       "      <td>69405.5</td>\n",
       "      <td>101559.0</td>\n",
       "      <td>135563.0</td>\n",
       "      <td>11622.0</td>\n",
       "      <td>24.933574</td>\n",
       "      <td>...</td>\n",
       "      <td>64.0</td>\n",
       "      <td>136.0</td>\n",
       "      <td>11666.0</td>\n",
       "      <td>1990.807132</td>\n",
       "      <td>21.166966</td>\n",
       "      <td>1928.0</td>\n",
       "      <td>1976.0</td>\n",
       "      <td>1996.0</td>\n",
       "      <td>2008.0</td>\n",
       "      <td>2016.0</td>\n",
       "    </tr>\n",
       "  </tbody>\n",
       "</table>\n",
       "<p>5 rows × 40 columns</p>\n",
       "</div>"
      ],
      "text/plain": [
       "                       ID                                                \\\n",
       "                    count          mean           std      min      25%   \n",
       "Sport                                                                     \n",
       "Alpine Skiing      3398.0  67302.975574  37425.139152    126.0  36467.0   \n",
       "Alpinism              1.0  31057.000000           NaN  31057.0  31057.0   \n",
       "Archery            1015.0  71459.375369  39513.911416    154.0  36474.0   \n",
       "Art Competitions    377.0  64952.405836  39643.324650    677.0  27013.0   \n",
       "Athletics         11666.0  68277.684725  39327.454841      8.0  33868.5   \n",
       "\n",
       "                                                   Age             ... Weight  \\\n",
       "                      50%       75%       max    count       mean  ...    75%   \n",
       "Sport                                                              ...          \n",
       "Alpine Skiing     64919.0   99394.0  135492.0   3398.0  22.334609  ...   66.0   \n",
       "Alpinism          31057.0   31057.0   31057.0      1.0  43.000000  ...    NaN   \n",
       "Archery           70004.0  104970.0  134488.0   1005.0  26.508458  ...   65.0   \n",
       "Art Competitions  61502.0  100443.0  135073.0    301.0  44.411960  ...    NaN   \n",
       "Athletics         69405.5  101559.0  135563.0  11622.0  24.933574  ...   64.0   \n",
       "\n",
       "                            Year                                          \\\n",
       "                    max    count         mean        std     min     25%   \n",
       "Sport                                                                      \n",
       "Alpine Skiing      90.0   3398.0  1987.476162  20.121354  1936.0  1972.0   \n",
       "Alpinism            NaN      1.0  1936.000000        NaN  1936.0  1936.0   \n",
       "Archery            95.0   1015.0  1994.518227  21.556298  1904.0  1988.0   \n",
       "Art Competitions    NaN    377.0  1934.546419   7.560296  1920.0  1932.0   \n",
       "Athletics         136.0  11666.0  1990.807132  21.166966  1928.0  1976.0   \n",
       "\n",
       "                                          \n",
       "                     50%     75%     max  \n",
       "Sport                                     \n",
       "Alpine Skiing     1992.0  2006.0  2014.0  \n",
       "Alpinism          1936.0  1936.0  1936.0  \n",
       "Archery           1996.0  2008.0  2016.0  \n",
       "Art Competitions  1932.0  1936.0  1948.0  \n",
       "Athletics         1996.0  2008.0  2016.0  \n",
       "\n",
       "[5 rows x 40 columns]"
      ]
     },
     "execution_count": 7,
     "metadata": {},
     "output_type": "execute_result"
    }
   ],
   "source": [
    "df_olympic[df_olympic['Sex'] == \"F\"].groupby(['Sport']).describe().head()"
   ]
  },
  {
   "cell_type": "code",
   "execution_count": 8,
   "id": "de16a1d3",
   "metadata": {},
   "outputs": [
    {
     "data": {
      "text/html": [
       "<div>\n",
       "<style scoped>\n",
       "    .dataframe tbody tr th:only-of-type {\n",
       "        vertical-align: middle;\n",
       "    }\n",
       "\n",
       "    .dataframe tbody tr th {\n",
       "        vertical-align: top;\n",
       "    }\n",
       "\n",
       "    .dataframe thead tr th {\n",
       "        text-align: left;\n",
       "    }\n",
       "\n",
       "    .dataframe thead tr:last-of-type th {\n",
       "        text-align: right;\n",
       "    }\n",
       "</style>\n",
       "<table border=\"1\" class=\"dataframe\">\n",
       "  <thead>\n",
       "    <tr>\n",
       "      <th></th>\n",
       "      <th colspan=\"8\" halign=\"left\">ID</th>\n",
       "      <th colspan=\"2\" halign=\"left\">Age</th>\n",
       "      <th>...</th>\n",
       "      <th colspan=\"2\" halign=\"left\">Weight</th>\n",
       "      <th colspan=\"8\" halign=\"left\">Year</th>\n",
       "    </tr>\n",
       "    <tr>\n",
       "      <th></th>\n",
       "      <th>count</th>\n",
       "      <th>mean</th>\n",
       "      <th>std</th>\n",
       "      <th>min</th>\n",
       "      <th>25%</th>\n",
       "      <th>50%</th>\n",
       "      <th>75%</th>\n",
       "      <th>max</th>\n",
       "      <th>count</th>\n",
       "      <th>mean</th>\n",
       "      <th>...</th>\n",
       "      <th>75%</th>\n",
       "      <th>max</th>\n",
       "      <th>count</th>\n",
       "      <th>mean</th>\n",
       "      <th>std</th>\n",
       "      <th>min</th>\n",
       "      <th>25%</th>\n",
       "      <th>50%</th>\n",
       "      <th>75%</th>\n",
       "      <th>max</th>\n",
       "    </tr>\n",
       "    <tr>\n",
       "      <th>Sport</th>\n",
       "      <th></th>\n",
       "      <th></th>\n",
       "      <th></th>\n",
       "      <th></th>\n",
       "      <th></th>\n",
       "      <th></th>\n",
       "      <th></th>\n",
       "      <th></th>\n",
       "      <th></th>\n",
       "      <th></th>\n",
       "      <th></th>\n",
       "      <th></th>\n",
       "      <th></th>\n",
       "      <th></th>\n",
       "      <th></th>\n",
       "      <th></th>\n",
       "      <th></th>\n",
       "      <th></th>\n",
       "      <th></th>\n",
       "      <th></th>\n",
       "      <th></th>\n",
       "    </tr>\n",
       "  </thead>\n",
       "  <tbody>\n",
       "    <tr>\n",
       "      <th>Aeronautics</th>\n",
       "      <td>1.0</td>\n",
       "      <td>107506.000000</td>\n",
       "      <td>NaN</td>\n",
       "      <td>107506.0</td>\n",
       "      <td>107506.00</td>\n",
       "      <td>107506.0</td>\n",
       "      <td>107506.00</td>\n",
       "      <td>107506.0</td>\n",
       "      <td>1.0</td>\n",
       "      <td>26.000000</td>\n",
       "      <td>...</td>\n",
       "      <td>NaN</td>\n",
       "      <td>NaN</td>\n",
       "      <td>1.0</td>\n",
       "      <td>1936.000000</td>\n",
       "      <td>NaN</td>\n",
       "      <td>1936.0</td>\n",
       "      <td>1936.0</td>\n",
       "      <td>1936.0</td>\n",
       "      <td>1936.0</td>\n",
       "      <td>1936.0</td>\n",
       "    </tr>\n",
       "    <tr>\n",
       "      <th>Alpine Skiing</th>\n",
       "      <td>5431.0</td>\n",
       "      <td>65976.949181</td>\n",
       "      <td>39306.207766</td>\n",
       "      <td>20.0</td>\n",
       "      <td>33131.00</td>\n",
       "      <td>63006.0</td>\n",
       "      <td>100679.00</td>\n",
       "      <td>135540.0</td>\n",
       "      <td>5353.0</td>\n",
       "      <td>23.758266</td>\n",
       "      <td>...</td>\n",
       "      <td>85.0</td>\n",
       "      <td>107.0</td>\n",
       "      <td>5431.0</td>\n",
       "      <td>1983.781624</td>\n",
       "      <td>20.547896</td>\n",
       "      <td>1936.0</td>\n",
       "      <td>1968.0</td>\n",
       "      <td>1988.0</td>\n",
       "      <td>2002.0</td>\n",
       "      <td>2014.0</td>\n",
       "    </tr>\n",
       "    <tr>\n",
       "      <th>Alpinism</th>\n",
       "      <td>24.0</td>\n",
       "      <td>81663.583333</td>\n",
       "      <td>37478.595998</td>\n",
       "      <td>15656.0</td>\n",
       "      <td>62277.75</td>\n",
       "      <td>97021.0</td>\n",
       "      <td>109615.25</td>\n",
       "      <td>128001.0</td>\n",
       "      <td>15.0</td>\n",
       "      <td>38.533333</td>\n",
       "      <td>...</td>\n",
       "      <td>NaN</td>\n",
       "      <td>NaN</td>\n",
       "      <td>24.0</td>\n",
       "      <td>1925.166667</td>\n",
       "      <td>3.225802</td>\n",
       "      <td>1924.0</td>\n",
       "      <td>1924.0</td>\n",
       "      <td>1924.0</td>\n",
       "      <td>1924.0</td>\n",
       "      <td>1936.0</td>\n",
       "    </tr>\n",
       "    <tr>\n",
       "      <th>Archery</th>\n",
       "      <td>1319.0</td>\n",
       "      <td>70673.739196</td>\n",
       "      <td>39696.435137</td>\n",
       "      <td>541.0</td>\n",
       "      <td>35402.50</td>\n",
       "      <td>69303.0</td>\n",
       "      <td>104769.50</td>\n",
       "      <td>134623.0</td>\n",
       "      <td>1249.0</td>\n",
       "      <td>29.083267</td>\n",
       "      <td>...</td>\n",
       "      <td>84.0</td>\n",
       "      <td>130.0</td>\n",
       "      <td>1319.0</td>\n",
       "      <td>1982.159212</td>\n",
       "      <td>34.446618</td>\n",
       "      <td>1900.0</td>\n",
       "      <td>1980.0</td>\n",
       "      <td>1992.0</td>\n",
       "      <td>2004.0</td>\n",
       "      <td>2016.0</td>\n",
       "    </tr>\n",
       "    <tr>\n",
       "      <th>Art Competitions</th>\n",
       "      <td>3201.0</td>\n",
       "      <td>66682.060918</td>\n",
       "      <td>38295.552152</td>\n",
       "      <td>19.0</td>\n",
       "      <td>33229.00</td>\n",
       "      <td>64997.0</td>\n",
       "      <td>99535.00</td>\n",
       "      <td>135536.0</td>\n",
       "      <td>2770.0</td>\n",
       "      <td>46.062816</td>\n",
       "      <td>...</td>\n",
       "      <td>76.5</td>\n",
       "      <td>93.0</td>\n",
       "      <td>3201.0</td>\n",
       "      <td>1933.018432</td>\n",
       "      <td>6.946040</td>\n",
       "      <td>1912.0</td>\n",
       "      <td>1928.0</td>\n",
       "      <td>1932.0</td>\n",
       "      <td>1936.0</td>\n",
       "      <td>1948.0</td>\n",
       "    </tr>\n",
       "  </tbody>\n",
       "</table>\n",
       "<p>5 rows × 40 columns</p>\n",
       "</div>"
      ],
      "text/plain": [
       "                      ID                                                    \\\n",
       "                   count           mean           std       min        25%   \n",
       "Sport                                                                        \n",
       "Aeronautics          1.0  107506.000000           NaN  107506.0  107506.00   \n",
       "Alpine Skiing     5431.0   65976.949181  39306.207766      20.0   33131.00   \n",
       "Alpinism            24.0   81663.583333  37478.595998   15656.0   62277.75   \n",
       "Archery           1319.0   70673.739196  39696.435137     541.0   35402.50   \n",
       "Art Competitions  3201.0   66682.060918  38295.552152      19.0   33229.00   \n",
       "\n",
       "                                                    Age             ...  \\\n",
       "                       50%        75%       max   count       mean  ...   \n",
       "Sport                                                               ...   \n",
       "Aeronautics       107506.0  107506.00  107506.0     1.0  26.000000  ...   \n",
       "Alpine Skiing      63006.0  100679.00  135540.0  5353.0  23.758266  ...   \n",
       "Alpinism           97021.0  109615.25  128001.0    15.0  38.533333  ...   \n",
       "Archery            69303.0  104769.50  134623.0  1249.0  29.083267  ...   \n",
       "Art Competitions   64997.0   99535.00  135536.0  2770.0  46.062816  ...   \n",
       "\n",
       "                 Weight           Year                                  \\\n",
       "                    75%    max   count         mean        std     min   \n",
       "Sport                                                                    \n",
       "Aeronautics         NaN    NaN     1.0  1936.000000        NaN  1936.0   \n",
       "Alpine Skiing      85.0  107.0  5431.0  1983.781624  20.547896  1936.0   \n",
       "Alpinism            NaN    NaN    24.0  1925.166667   3.225802  1924.0   \n",
       "Archery            84.0  130.0  1319.0  1982.159212  34.446618  1900.0   \n",
       "Art Competitions   76.5   93.0  3201.0  1933.018432   6.946040  1912.0   \n",
       "\n",
       "                                                  \n",
       "                     25%     50%     75%     max  \n",
       "Sport                                             \n",
       "Aeronautics       1936.0  1936.0  1936.0  1936.0  \n",
       "Alpine Skiing     1968.0  1988.0  2002.0  2014.0  \n",
       "Alpinism          1924.0  1924.0  1924.0  1936.0  \n",
       "Archery           1980.0  1992.0  2004.0  2016.0  \n",
       "Art Competitions  1928.0  1932.0  1936.0  1948.0  \n",
       "\n",
       "[5 rows x 40 columns]"
      ]
     },
     "execution_count": 8,
     "metadata": {},
     "output_type": "execute_result"
    }
   ],
   "source": [
    "df_olympic[df_olympic['Sex'] == \"M\"].groupby(['Sport']).describe().head()"
   ]
  },
  {
   "cell_type": "markdown",
   "id": "5c56f7dc",
   "metadata": {},
   "source": [
    "## Plotting The Difference in Male vs Female Count in all sports"
   ]
  },
  {
   "cell_type": "code",
   "execution_count": 9,
   "id": "08f0e04f",
   "metadata": {},
   "outputs": [
    {
     "data": {
      "text/plain": [
       "<matplotlib.legend.Legend at 0x27c30915850>"
      ]
     },
     "execution_count": 9,
     "metadata": {},
     "output_type": "execute_result"
    },
    {
     "data": {
      "image/png": "[encoded data removed]",
      "text/plain": [
       "<Figure size 1080x1080 with 1 Axes>"
      ]
     },
     "metadata": {
      "needs_background": "light"
     },
     "output_type": "display_data"
    }
   ],
   "source": [
    "\n",
    "males_cont=df_olympic[df_olympic['Sex'] == \"M\"].groupby(['Sport'])['Sport'].count()\n",
    "females_cont=df_olympic[df_olympic['Sex'] == \"F\"].groupby(['Sport'])['Sport'].count()\n",
    "df_combinedGenderCount=pd.concat([males_cont, females_cont], axis=1)\n",
    "df_combinedGenderCount.columns=['Males','Females']\n",
    "df_combinedGenderCount=df_combinedGenderCount.fillna(0)\n",
    "\n",
    "ax = df_combinedGenderCount[0:37].plot.barh(stacked=True);\n",
    "ax.figure.set_size_inches(15,15)\n",
    "ax.set_xlabel('Number of Participants',fontsize=15)\n",
    "ax.set_ylabel('Sport',fontsize=15)\n",
    "ax.set_title(\"Number of olympic participants Males vs Females\",fontsize=15)\n",
    "\n",
    "ax.legend(loc='upper right')"
   ]
  },
  {
   "cell_type": "code",
   "execution_count": 10,
   "id": "63da2913",
   "metadata": {},
   "outputs": [
    {
     "data": {
      "text/plain": [
       "<matplotlib.legend.Legend at 0x27c04424940>"
      ]
     },
     "execution_count": 10,
     "metadata": {},
     "output_type": "execute_result"
    },
    {
     "data": {
      "image/png": "[encoded data removed]",
      "text/plain": [
       "<Figure size 1080x1080 with 1 Axes>"
      ]
     },
     "metadata": {
      "needs_background": "light"
     },
     "output_type": "display_data"
    }
   ],
   "source": [
    "ax = df_combinedGenderCount[30:].plot.barh(stacked=True);\n",
    "ax.figure.set_size_inches(15,15)\n",
    "ax.set_xlabel('Number of Participants',fontsize=15)\n",
    "ax.set_ylabel('Sport',fontsize=15)\n",
    "ax.set_title(\"Number of olympic participants Males vs Females\",fontsize=15)\n",
    "ax.legend(loc='upper right')"
   ]
  },
  {
   "cell_type": "markdown",
   "id": "1166a3cf",
   "metadata": {
    "id": "1166a3cf"
   },
   "source": [
    "# Data cleaning"
   ]
  },
  {
   "cell_type": "markdown",
   "id": "4afeb6b2",
   "metadata": {
    "id": "4afeb6b2"
   },
   "source": [
    "### We will take a look over how many Nan values each column has"
   ]
  },
  {
   "cell_type": "code",
   "execution_count": 11,
   "id": "b548a2b3",
   "metadata": {
    "colab": {
     "base_uri": "https://localhost:8080/"
    },
    "id": "b548a2b3",
    "outputId": "96b6dbb8-78ea-4e35-bd1f-cc3389f0627e"
   },
   "outputs": [
    {
     "name": "stdout",
     "output_type": "stream",
     "text": [
      "ID             0\n",
      "Name           0\n",
      "Sex            0\n",
      "Age         9474\n",
      "Height     60171\n",
      "Weight     62875\n",
      "Team           0\n",
      "NOC            0\n",
      "Games          0\n",
      "Year           0\n",
      "Season         0\n",
      "City           0\n",
      "Sport          0\n",
      "Event          0\n",
      "Medal     231333\n",
      "dtype: int64\n"
     ]
    }
   ],
   "source": [
    "missing_values_count_athletes = df_olympic.isnull().sum()\n",
    "print(missing_values_count_athletes)"
   ]
  },
  {
   "cell_type": "markdown",
   "id": "018fcf92",
   "metadata": {
    "id": "018fcf92"
   },
   "source": [
    "### Medals has the most missing values but thats normal because most of the olympic participants dont get a medal\n",
    "### As for the age height and weight however we need to fill in these values"
   ]
  },
  {
   "cell_type": "markdown",
   "id": "249b0f80",
   "metadata": {
    "id": "249b0f80"
   },
   "source": [
    "# Weight and Height Imputation\n",
    "### We can not just take the mean of the weight and height since there are many types of events with different weight and height like Athletics and gymnastics for example we cant group their average height together. Furthermore, weight and height differ from male and female. "
   ]
  },
  {
   "cell_type": "markdown",
   "id": "1ba370cd",
   "metadata": {
    "id": "1ba370cd"
   },
   "source": [
    "### So instead we will take the average of each gender and sport pair together and fill that average to the ones with the same gender and sport . But first we will take a look if there is any outliers that need to be removed"
   ]
  },
  {
   "cell_type": "markdown",
   "id": "5ed8a8fa",
   "metadata": {},
   "source": [
    "## Height Analysis"
   ]
  },
  {
   "cell_type": "code",
   "execution_count": 12,
   "id": "cf39840e",
   "metadata": {},
   "outputs": [
    {
     "data": {
      "text/plain": [
       "<AxesSubplot:xlabel='Height', ylabel='Density'>"
      ]
     },
     "execution_count": 12,
     "metadata": {},
     "output_type": "execute_result"
    },
    {
     "data": {
      "image/png": "[encoded data removed]",
      "text/plain": [
       "<Figure size 432x288 with 1 Axes>"
      ]
     },
     "metadata": {
      "needs_background": "light"
     },
     "output_type": "display_data"
    }
   ],
   "source": [
    "sns.distplot(df_olympic[\"Height\"])"
   ]
  },
  {
   "cell_type": "markdown",
   "id": "4809e8d2",
   "metadata": {},
   "source": [
    "### lets analyze the Height Outliers"
   ]
  },
  {
   "cell_type": "code",
   "execution_count": 13,
   "id": "db3f6838",
   "metadata": {},
   "outputs": [
    {
     "data": {
      "text/plain": [
       "<AxesSubplot:xlabel='Height'>"
      ]
     },
     "execution_count": 13,
     "metadata": {},
     "output_type": "execute_result"
    },
    {
     "data": {
      "image/png": "[encoded data removed]",
      "text/plain": [
       "<Figure size 432x288 with 1 Axes>"
      ]
     },
     "metadata": {
      "needs_background": "light"
     },
     "output_type": "display_data"
    }
   ],
   "source": [
    "sns.boxplot(df_olympic[\"Height\"])"
   ]
  },
  {
   "cell_type": "code",
   "execution_count": 14,
   "id": "6c8367d0",
   "metadata": {},
   "outputs": [
    {
     "data": {
      "text/html": [
       "<div>\n",
       "<style scoped>\n",
       "    .dataframe tbody tr th:only-of-type {\n",
       "        vertical-align: middle;\n",
       "    }\n",
       "\n",
       "    .dataframe tbody tr th {\n",
       "        vertical-align: top;\n",
       "    }\n",
       "\n",
       "    .dataframe thead th {\n",
       "        text-align: right;\n",
       "    }\n",
       "</style>\n",
       "<table border=\"1\" class=\"dataframe\">\n",
       "  <thead>\n",
       "    <tr style=\"text-align: right;\">\n",
       "      <th></th>\n",
       "      <th>ID</th>\n",
       "      <th>Name</th>\n",
       "      <th>Sex</th>\n",
       "      <th>Age</th>\n",
       "      <th>Height</th>\n",
       "      <th>Weight</th>\n",
       "      <th>Team</th>\n",
       "      <th>NOC</th>\n",
       "      <th>Games</th>\n",
       "      <th>Year</th>\n",
       "      <th>Season</th>\n",
       "      <th>City</th>\n",
       "      <th>Sport</th>\n",
       "      <th>Event</th>\n",
       "      <th>Medal</th>\n",
       "    </tr>\n",
       "  </thead>\n",
       "  <tbody>\n",
       "    <tr>\n",
       "      <th>130461</th>\n",
       "      <td>65675</td>\n",
       "      <td>Alfred Joan Labouchere</td>\n",
       "      <td>M</td>\n",
       "      <td>61.0</td>\n",
       "      <td>201.0</td>\n",
       "      <td>NaN</td>\n",
       "      <td>Netherlands</td>\n",
       "      <td>NED</td>\n",
       "      <td>1928 Summer</td>\n",
       "      <td>1928</td>\n",
       "      <td>Summer</td>\n",
       "      <td>Amsterdam</td>\n",
       "      <td>Fencing</td>\n",
       "      <td>Fencing Men's epee, Team</td>\n",
       "      <td>NaN</td>\n",
       "    </tr>\n",
       "    <tr>\n",
       "      <th>130460</th>\n",
       "      <td>65675</td>\n",
       "      <td>Alfred Joan Labouchere</td>\n",
       "      <td>M</td>\n",
       "      <td>41.0</td>\n",
       "      <td>201.0</td>\n",
       "      <td>NaN</td>\n",
       "      <td>Netherlands</td>\n",
       "      <td>NED</td>\n",
       "      <td>1908 Summer</td>\n",
       "      <td>1908</td>\n",
       "      <td>Summer</td>\n",
       "      <td>London</td>\n",
       "      <td>Fencing</td>\n",
       "      <td>Fencing Men's Sabre, Individual</td>\n",
       "      <td>NaN</td>\n",
       "    </tr>\n",
       "    <tr>\n",
       "      <th>23815</th>\n",
       "      <td>12510</td>\n",
       "      <td>Philippe Boccara</td>\n",
       "      <td>M</td>\n",
       "      <td>41.0</td>\n",
       "      <td>203.0</td>\n",
       "      <td>93.0</td>\n",
       "      <td>United States</td>\n",
       "      <td>USA</td>\n",
       "      <td>2000 Summer</td>\n",
       "      <td>2000</td>\n",
       "      <td>Summer</td>\n",
       "      <td>Sydney</td>\n",
       "      <td>Canoeing</td>\n",
       "      <td>Canoeing Men's Kayak Doubles, 1,000 metres</td>\n",
       "      <td>NaN</td>\n",
       "    </tr>\n",
       "    <tr>\n",
       "      <th>130459</th>\n",
       "      <td>65675</td>\n",
       "      <td>Alfred Joan Labouchere</td>\n",
       "      <td>M</td>\n",
       "      <td>41.0</td>\n",
       "      <td>201.0</td>\n",
       "      <td>NaN</td>\n",
       "      <td>Netherlands</td>\n",
       "      <td>NED</td>\n",
       "      <td>1908 Summer</td>\n",
       "      <td>1908</td>\n",
       "      <td>Summer</td>\n",
       "      <td>London</td>\n",
       "      <td>Fencing</td>\n",
       "      <td>Fencing Men's epee, Team</td>\n",
       "      <td>NaN</td>\n",
       "    </tr>\n",
       "    <tr>\n",
       "      <th>130458</th>\n",
       "      <td>65675</td>\n",
       "      <td>Alfred Joan Labouchere</td>\n",
       "      <td>M</td>\n",
       "      <td>41.0</td>\n",
       "      <td>201.0</td>\n",
       "      <td>NaN</td>\n",
       "      <td>Netherlands</td>\n",
       "      <td>NED</td>\n",
       "      <td>1908 Summer</td>\n",
       "      <td>1908</td>\n",
       "      <td>Summer</td>\n",
       "      <td>London</td>\n",
       "      <td>Fencing</td>\n",
       "      <td>Fencing Men's epee, Individual</td>\n",
       "      <td>NaN</td>\n",
       "    </tr>\n",
       "    <tr>\n",
       "      <th>...</th>\n",
       "      <td>...</td>\n",
       "      <td>...</td>\n",
       "      <td>...</td>\n",
       "      <td>...</td>\n",
       "      <td>...</td>\n",
       "      <td>...</td>\n",
       "      <td>...</td>\n",
       "      <td>...</td>\n",
       "      <td>...</td>\n",
       "      <td>...</td>\n",
       "      <td>...</td>\n",
       "      <td>...</td>\n",
       "      <td>...</td>\n",
       "      <td>...</td>\n",
       "      <td>...</td>\n",
       "    </tr>\n",
       "    <tr>\n",
       "      <th>256929</th>\n",
       "      <td>128654</td>\n",
       "      <td>Wang Zhizhi</td>\n",
       "      <td>M</td>\n",
       "      <td>17.0</td>\n",
       "      <td>215.0</td>\n",
       "      <td>110.0</td>\n",
       "      <td>China</td>\n",
       "      <td>CHN</td>\n",
       "      <td>1996 Summer</td>\n",
       "      <td>1996</td>\n",
       "      <td>Summer</td>\n",
       "      <td>Atlanta</td>\n",
       "      <td>Basketball</td>\n",
       "      <td>Basketball Men's Basketball</td>\n",
       "      <td>NaN</td>\n",
       "    </tr>\n",
       "    <tr>\n",
       "      <th>269244</th>\n",
       "      <td>134728</td>\n",
       "      <td>Zheng Haixia</td>\n",
       "      <td>F</td>\n",
       "      <td>17.0</td>\n",
       "      <td>204.0</td>\n",
       "      <td>115.0</td>\n",
       "      <td>China</td>\n",
       "      <td>CHN</td>\n",
       "      <td>1984 Summer</td>\n",
       "      <td>1984</td>\n",
       "      <td>Summer</td>\n",
       "      <td>Los Angeles</td>\n",
       "      <td>Basketball</td>\n",
       "      <td>Basketball Women's Basketball</td>\n",
       "      <td>Bronze</td>\n",
       "    </tr>\n",
       "    <tr>\n",
       "      <th>228959</th>\n",
       "      <td>114958</td>\n",
       "      <td>Mariya Aleksandrovna Stepanova</td>\n",
       "      <td>F</td>\n",
       "      <td>17.0</td>\n",
       "      <td>202.0</td>\n",
       "      <td>85.0</td>\n",
       "      <td>Russia</td>\n",
       "      <td>RUS</td>\n",
       "      <td>1996 Summer</td>\n",
       "      <td>1996</td>\n",
       "      <td>Summer</td>\n",
       "      <td>Atlanta</td>\n",
       "      <td>Basketball</td>\n",
       "      <td>Basketball Women's Basketball</td>\n",
       "      <td>NaN</td>\n",
       "    </tr>\n",
       "    <tr>\n",
       "      <th>265715</th>\n",
       "      <td>132953</td>\n",
       "      <td>Yi Jianlian</td>\n",
       "      <td>M</td>\n",
       "      <td>16.0</td>\n",
       "      <td>213.0</td>\n",
       "      <td>113.0</td>\n",
       "      <td>China</td>\n",
       "      <td>CHN</td>\n",
       "      <td>2004 Summer</td>\n",
       "      <td>2004</td>\n",
       "      <td>Summer</td>\n",
       "      <td>Athina</td>\n",
       "      <td>Basketball</td>\n",
       "      <td>Basketball Men's Basketball</td>\n",
       "      <td>NaN</td>\n",
       "    </tr>\n",
       "    <tr>\n",
       "      <th>70959</th>\n",
       "      <td>36129</td>\n",
       "      <td>Ren Marcellin Fonjallaz</td>\n",
       "      <td>M</td>\n",
       "      <td>NaN</td>\n",
       "      <td>211.0</td>\n",
       "      <td>NaN</td>\n",
       "      <td>Switzerland-1</td>\n",
       "      <td>SUI</td>\n",
       "      <td>1928 Winter</td>\n",
       "      <td>1928</td>\n",
       "      <td>Winter</td>\n",
       "      <td>Sankt Moritz</td>\n",
       "      <td>Bobsleigh</td>\n",
       "      <td>Bobsleigh Men's Four/Five</td>\n",
       "      <td>NaN</td>\n",
       "    </tr>\n",
       "  </tbody>\n",
       "</table>\n",
       "<p>1894 rows × 15 columns</p>\n",
       "</div>"
      ],
      "text/plain": [
       "            ID                            Name Sex   Age  Height  Weight  \\\n",
       "130461   65675          Alfred Joan Labouchere   M  61.0   201.0     NaN   \n",
       "130460   65675          Alfred Joan Labouchere   M  41.0   201.0     NaN   \n",
       "23815    12510                Philippe Boccara   M  41.0   203.0    93.0   \n",
       "130459   65675          Alfred Joan Labouchere   M  41.0   201.0     NaN   \n",
       "130458   65675          Alfred Joan Labouchere   M  41.0   201.0     NaN   \n",
       "...        ...                             ...  ..   ...     ...     ...   \n",
       "256929  128654                     Wang Zhizhi   M  17.0   215.0   110.0   \n",
       "269244  134728                    Zheng Haixia   F  17.0   204.0   115.0   \n",
       "228959  114958  Mariya Aleksandrovna Stepanova   F  17.0   202.0    85.0   \n",
       "265715  132953                     Yi Jianlian   M  16.0   213.0   113.0   \n",
       "70959    36129         Ren Marcellin Fonjallaz   M   NaN   211.0     NaN   \n",
       "\n",
       "                 Team  NOC        Games  Year  Season          City  \\\n",
       "130461    Netherlands  NED  1928 Summer  1928  Summer     Amsterdam   \n",
       "130460    Netherlands  NED  1908 Summer  1908  Summer        London   \n",
       "23815   United States  USA  2000 Summer  2000  Summer        Sydney   \n",
       "130459    Netherlands  NED  1908 Summer  1908  Summer        London   \n",
       "130458    Netherlands  NED  1908 Summer  1908  Summer        London   \n",
       "...               ...  ...          ...   ...     ...           ...   \n",
       "256929          China  CHN  1996 Summer  1996  Summer       Atlanta   \n",
       "269244          China  CHN  1984 Summer  1984  Summer   Los Angeles   \n",
       "228959         Russia  RUS  1996 Summer  1996  Summer       Atlanta   \n",
       "265715          China  CHN  2004 Summer  2004  Summer        Athina   \n",
       "70959   Switzerland-1  SUI  1928 Winter  1928  Winter  Sankt Moritz   \n",
       "\n",
       "             Sport                                       Event   Medal  \n",
       "130461     Fencing                    Fencing Men's epee, Team     NaN  \n",
       "130460     Fencing             Fencing Men's Sabre, Individual     NaN  \n",
       "23815     Canoeing  Canoeing Men's Kayak Doubles, 1,000 metres     NaN  \n",
       "130459     Fencing                    Fencing Men's epee, Team     NaN  \n",
       "130458     Fencing              Fencing Men's epee, Individual     NaN  \n",
       "...            ...                                         ...     ...  \n",
       "256929  Basketball                 Basketball Men's Basketball     NaN  \n",
       "269244  Basketball               Basketball Women's Basketball  Bronze  \n",
       "228959  Basketball               Basketball Women's Basketball     NaN  \n",
       "265715  Basketball                 Basketball Men's Basketball     NaN  \n",
       "70959    Bobsleigh                   Bobsleigh Men's Four/Five     NaN  \n",
       "\n",
       "[1894 rows x 15 columns]"
      ]
     },
     "execution_count": 14,
     "metadata": {},
     "output_type": "execute_result"
    }
   ],
   "source": [
    "df_olympic[df_olympic.Height>200].sort_values(by='Age',ascending=False)"
   ]
  },
  {
   "cell_type": "code",
   "execution_count": 15,
   "id": "5adcbcc0",
   "metadata": {},
   "outputs": [
    {
     "data": {
      "text/html": [
       "<div>\n",
       "<style scoped>\n",
       "    .dataframe tbody tr th:only-of-type {\n",
       "        vertical-align: middle;\n",
       "    }\n",
       "\n",
       "    .dataframe tbody tr th {\n",
       "        vertical-align: top;\n",
       "    }\n",
       "\n",
       "    .dataframe thead th {\n",
       "        text-align: right;\n",
       "    }\n",
       "</style>\n",
       "<table border=\"1\" class=\"dataframe\">\n",
       "  <thead>\n",
       "    <tr style=\"text-align: right;\">\n",
       "      <th></th>\n",
       "      <th>ID</th>\n",
       "      <th>Name</th>\n",
       "      <th>Sex</th>\n",
       "      <th>Age</th>\n",
       "      <th>Height</th>\n",
       "      <th>Weight</th>\n",
       "      <th>Team</th>\n",
       "      <th>NOC</th>\n",
       "      <th>Games</th>\n",
       "      <th>Year</th>\n",
       "      <th>Season</th>\n",
       "      <th>City</th>\n",
       "      <th>Sport</th>\n",
       "      <th>Event</th>\n",
       "      <th>Medal</th>\n",
       "    </tr>\n",
       "  </thead>\n",
       "  <tbody>\n",
       "    <tr>\n",
       "      <th>114423</th>\n",
       "      <td>57941</td>\n",
       "      <td>Daniel Jerem Kaswanga</td>\n",
       "      <td>M</td>\n",
       "      <td>28.0</td>\n",
       "      <td>138.0</td>\n",
       "      <td>67.0</td>\n",
       "      <td>Malawi</td>\n",
       "      <td>MAW</td>\n",
       "      <td>1988 Summer</td>\n",
       "      <td>1988</td>\n",
       "      <td>Summer</td>\n",
       "      <td>Seoul</td>\n",
       "      <td>Cycling</td>\n",
       "      <td>Cycling Men's 100 kilometres Team Time Trial</td>\n",
       "      <td>NaN</td>\n",
       "    </tr>\n",
       "    <tr>\n",
       "      <th>220270</th>\n",
       "      <td>110638</td>\n",
       "      <td>Boston Simbeye</td>\n",
       "      <td>M</td>\n",
       "      <td>28.0</td>\n",
       "      <td>130.0</td>\n",
       "      <td>67.0</td>\n",
       "      <td>Malawi</td>\n",
       "      <td>MAW</td>\n",
       "      <td>1988 Summer</td>\n",
       "      <td>1988</td>\n",
       "      <td>Summer</td>\n",
       "      <td>Seoul</td>\n",
       "      <td>Boxing</td>\n",
       "      <td>Boxing Men's Welterweight</td>\n",
       "      <td>NaN</td>\n",
       "    </tr>\n",
       "    <tr>\n",
       "      <th>11420</th>\n",
       "      <td>6237</td>\n",
       "      <td>Peter Ayesu</td>\n",
       "      <td>M</td>\n",
       "      <td>26.0</td>\n",
       "      <td>135.0</td>\n",
       "      <td>51.0</td>\n",
       "      <td>Malawi</td>\n",
       "      <td>MAW</td>\n",
       "      <td>1988 Summer</td>\n",
       "      <td>1988</td>\n",
       "      <td>Summer</td>\n",
       "      <td>Seoul</td>\n",
       "      <td>Boxing</td>\n",
       "      <td>Boxing Men's Flyweight</td>\n",
       "      <td>NaN</td>\n",
       "    </tr>\n",
       "    <tr>\n",
       "      <th>164821</th>\n",
       "      <td>82769</td>\n",
       "      <td>Lyton Levison Mphande</td>\n",
       "      <td>M</td>\n",
       "      <td>25.0</td>\n",
       "      <td>127.0</td>\n",
       "      <td>62.0</td>\n",
       "      <td>Malawi</td>\n",
       "      <td>MAW</td>\n",
       "      <td>1988 Summer</td>\n",
       "      <td>1988</td>\n",
       "      <td>Summer</td>\n",
       "      <td>Seoul</td>\n",
       "      <td>Boxing</td>\n",
       "      <td>Boxing Men's Light-Welterweight</td>\n",
       "      <td>NaN</td>\n",
       "    </tr>\n",
       "    <tr>\n",
       "      <th>77906</th>\n",
       "      <td>39559</td>\n",
       "      <td>Maureen Jean George</td>\n",
       "      <td>F</td>\n",
       "      <td>24.0</td>\n",
       "      <td>138.0</td>\n",
       "      <td>66.0</td>\n",
       "      <td>Zimbabwe</td>\n",
       "      <td>ZIM</td>\n",
       "      <td>1980 Summer</td>\n",
       "      <td>1980</td>\n",
       "      <td>Summer</td>\n",
       "      <td>Moskva</td>\n",
       "      <td>Hockey</td>\n",
       "      <td>Hockey Women's Hockey</td>\n",
       "      <td>Gold</td>\n",
       "    </tr>\n",
       "    <tr>\n",
       "      <th>...</th>\n",
       "      <td>...</td>\n",
       "      <td>...</td>\n",
       "      <td>...</td>\n",
       "      <td>...</td>\n",
       "      <td>...</td>\n",
       "      <td>...</td>\n",
       "      <td>...</td>\n",
       "      <td>...</td>\n",
       "      <td>...</td>\n",
       "      <td>...</td>\n",
       "      <td>...</td>\n",
       "      <td>...</td>\n",
       "      <td>...</td>\n",
       "      <td>...</td>\n",
       "      <td>...</td>\n",
       "    </tr>\n",
       "    <tr>\n",
       "      <th>126542</th>\n",
       "      <td>63816</td>\n",
       "      <td>Carolyn Patricia Krau</td>\n",
       "      <td>F</td>\n",
       "      <td>12.0</td>\n",
       "      <td>137.0</td>\n",
       "      <td>36.0</td>\n",
       "      <td>Great Britain-2</td>\n",
       "      <td>GBR</td>\n",
       "      <td>1956 Winter</td>\n",
       "      <td>1956</td>\n",
       "      <td>Winter</td>\n",
       "      <td>Cortina d'Ampezzo</td>\n",
       "      <td>Figure Skating</td>\n",
       "      <td>Figure Skating Mixed Pairs</td>\n",
       "      <td>NaN</td>\n",
       "    </tr>\n",
       "    <tr>\n",
       "      <th>3510</th>\n",
       "      <td>2003</td>\n",
       "      <td>Said Mubarak Marhoon Al-Khatry</td>\n",
       "      <td>M</td>\n",
       "      <td>NaN</td>\n",
       "      <td>132.0</td>\n",
       "      <td>66.0</td>\n",
       "      <td>Oman</td>\n",
       "      <td>OMA</td>\n",
       "      <td>1984 Summer</td>\n",
       "      <td>1984</td>\n",
       "      <td>Summer</td>\n",
       "      <td>Los Angeles</td>\n",
       "      <td>Shooting</td>\n",
       "      <td>Shooting Men's Rapid-Fire Pistol, 25 metres</td>\n",
       "      <td>NaN</td>\n",
       "    </tr>\n",
       "    <tr>\n",
       "      <th>3778</th>\n",
       "      <td>2174</td>\n",
       "      <td>Khamis Mohamed Saif Al-Subhi</td>\n",
       "      <td>M</td>\n",
       "      <td>NaN</td>\n",
       "      <td>132.0</td>\n",
       "      <td>58.0</td>\n",
       "      <td>Oman</td>\n",
       "      <td>OMA</td>\n",
       "      <td>1984 Summer</td>\n",
       "      <td>1984</td>\n",
       "      <td>Summer</td>\n",
       "      <td>Los Angeles</td>\n",
       "      <td>Shooting</td>\n",
       "      <td>Shooting Men's Air Rifle, 10 metres</td>\n",
       "      <td>NaN</td>\n",
       "    </tr>\n",
       "    <tr>\n",
       "      <th>68861</th>\n",
       "      <td>35122</td>\n",
       "      <td>Nadia Fezzani</td>\n",
       "      <td>F</td>\n",
       "      <td>NaN</td>\n",
       "      <td>131.0</td>\n",
       "      <td>41.0</td>\n",
       "      <td>Libya</td>\n",
       "      <td>LBA</td>\n",
       "      <td>1980 Summer</td>\n",
       "      <td>1980</td>\n",
       "      <td>Summer</td>\n",
       "      <td>Moskva</td>\n",
       "      <td>Swimming</td>\n",
       "      <td>Swimming Women's 100 metres Freestyle</td>\n",
       "      <td>NaN</td>\n",
       "    </tr>\n",
       "    <tr>\n",
       "      <th>68862</th>\n",
       "      <td>35122</td>\n",
       "      <td>Nadia Fezzani</td>\n",
       "      <td>F</td>\n",
       "      <td>NaN</td>\n",
       "      <td>131.0</td>\n",
       "      <td>41.0</td>\n",
       "      <td>Libya</td>\n",
       "      <td>LBA</td>\n",
       "      <td>1980 Summer</td>\n",
       "      <td>1980</td>\n",
       "      <td>Summer</td>\n",
       "      <td>Moskva</td>\n",
       "      <td>Swimming</td>\n",
       "      <td>Swimming Women's 100 metres Butterfly</td>\n",
       "      <td>NaN</td>\n",
       "    </tr>\n",
       "  </tbody>\n",
       "</table>\n",
       "<p>155 rows × 15 columns</p>\n",
       "</div>"
      ],
      "text/plain": [
       "            ID                            Name Sex   Age  Height  Weight  \\\n",
       "114423   57941           Daniel Jerem Kaswanga   M  28.0   138.0    67.0   \n",
       "220270  110638                  Boston Simbeye   M  28.0   130.0    67.0   \n",
       "11420     6237                     Peter Ayesu   M  26.0   135.0    51.0   \n",
       "164821   82769           Lyton Levison Mphande   M  25.0   127.0    62.0   \n",
       "77906    39559             Maureen Jean George   F  24.0   138.0    66.0   \n",
       "...        ...                             ...  ..   ...     ...     ...   \n",
       "126542   63816           Carolyn Patricia Krau   F  12.0   137.0    36.0   \n",
       "3510      2003  Said Mubarak Marhoon Al-Khatry   M   NaN   132.0    66.0   \n",
       "3778      2174    Khamis Mohamed Saif Al-Subhi   M   NaN   132.0    58.0   \n",
       "68861    35122                   Nadia Fezzani   F   NaN   131.0    41.0   \n",
       "68862    35122                   Nadia Fezzani   F   NaN   131.0    41.0   \n",
       "\n",
       "                   Team  NOC        Games  Year  Season               City  \\\n",
       "114423           Malawi  MAW  1988 Summer  1988  Summer              Seoul   \n",
       "220270           Malawi  MAW  1988 Summer  1988  Summer              Seoul   \n",
       "11420            Malawi  MAW  1988 Summer  1988  Summer              Seoul   \n",
       "164821           Malawi  MAW  1988 Summer  1988  Summer              Seoul   \n",
       "77906          Zimbabwe  ZIM  1980 Summer  1980  Summer             Moskva   \n",
       "...                 ...  ...          ...   ...     ...                ...   \n",
       "126542  Great Britain-2  GBR  1956 Winter  1956  Winter  Cortina d'Ampezzo   \n",
       "3510               Oman  OMA  1984 Summer  1984  Summer        Los Angeles   \n",
       "3778               Oman  OMA  1984 Summer  1984  Summer        Los Angeles   \n",
       "68861             Libya  LBA  1980 Summer  1980  Summer             Moskva   \n",
       "68862             Libya  LBA  1980 Summer  1980  Summer             Moskva   \n",
       "\n",
       "                 Sport                                         Event Medal  \n",
       "114423         Cycling  Cycling Men's 100 kilometres Team Time Trial   NaN  \n",
       "220270          Boxing                     Boxing Men's Welterweight   NaN  \n",
       "11420           Boxing                        Boxing Men's Flyweight   NaN  \n",
       "164821          Boxing               Boxing Men's Light-Welterweight   NaN  \n",
       "77906           Hockey                         Hockey Women's Hockey  Gold  \n",
       "...                ...                                           ...   ...  \n",
       "126542  Figure Skating                    Figure Skating Mixed Pairs   NaN  \n",
       "3510          Shooting   Shooting Men's Rapid-Fire Pistol, 25 metres   NaN  \n",
       "3778          Shooting           Shooting Men's Air Rifle, 10 metres   NaN  \n",
       "68861         Swimming         Swimming Women's 100 metres Freestyle   NaN  \n",
       "68862         Swimming         Swimming Women's 100 metres Butterfly   NaN  \n",
       "\n",
       "[155 rows x 15 columns]"
      ]
     },
     "execution_count": 15,
     "metadata": {},
     "output_type": "execute_result"
    }
   ],
   "source": [
    "df_olympic[df_olympic.Height<140].sort_values(by='Age',ascending=False)"
   ]
  },
  {
   "cell_type": "markdown",
   "id": "81ea4edb",
   "metadata": {},
   "source": [
    "### Although at first Glance there might seem like there is a lot of outliers. All of the height outliers are not irregular or un-natural they are all normal heights but in the middle of olympics participants they might seem like outlier but since they are all normals heights we decided to leave them"
   ]
  },
  {
   "cell_type": "markdown",
   "id": "a8284b20",
   "metadata": {},
   "source": [
    "## Weight analysis"
   ]
  },
  {
   "cell_type": "code",
   "execution_count": 16,
   "id": "a1bbd13b",
   "metadata": {},
   "outputs": [
    {
     "data": {
      "text/plain": [
       "<AxesSubplot:xlabel='Weight', ylabel='Density'>"
      ]
     },
     "execution_count": 16,
     "metadata": {},
     "output_type": "execute_result"
    },
    {
     "data": {
      "image/png": "[encoded data removed]",
      "text/plain": [
       "<Figure size 432x288 with 1 Axes>"
      ]
     },
     "metadata": {
      "needs_background": "light"
     },
     "output_type": "display_data"
    }
   ],
   "source": [
    "sns.distplot(df_olympic[\"Weight\"])"
   ]
  },
  {
   "cell_type": "code",
   "execution_count": 17,
   "id": "8279d0cc",
   "metadata": {},
   "outputs": [
    {
     "data": {
      "text/plain": [
       "<AxesSubplot:xlabel='Weight'>"
      ]
     },
     "execution_count": 17,
     "metadata": {},
     "output_type": "execute_result"
    },
    {
     "data": {
      "image/png": "[encoded data removed]",
      "text/plain": [
       "<Figure size 432x288 with 1 Axes>"
      ]
     },
     "metadata": {
      "needs_background": "light"
     },
     "output_type": "display_data"
    }
   ],
   "source": [
    "sns.boxplot(df_olympic[\"Weight\"])"
   ]
  },
  {
   "cell_type": "code",
   "execution_count": 18,
   "id": "ed9ce2c1",
   "metadata": {},
   "outputs": [
    {
     "data": {
      "text/html": [
       "<div>\n",
       "<style scoped>\n",
       "    .dataframe tbody tr th:only-of-type {\n",
       "        vertical-align: middle;\n",
       "    }\n",
       "\n",
       "    .dataframe tbody tr th {\n",
       "        vertical-align: top;\n",
       "    }\n",
       "\n",
       "    .dataframe thead th {\n",
       "        text-align: right;\n",
       "    }\n",
       "</style>\n",
       "<table border=\"1\" class=\"dataframe\">\n",
       "  <thead>\n",
       "    <tr style=\"text-align: right;\">\n",
       "      <th></th>\n",
       "      <th>ID</th>\n",
       "      <th>Name</th>\n",
       "      <th>Sex</th>\n",
       "      <th>Age</th>\n",
       "      <th>Height</th>\n",
       "      <th>Weight</th>\n",
       "      <th>Team</th>\n",
       "      <th>NOC</th>\n",
       "      <th>Games</th>\n",
       "      <th>Year</th>\n",
       "      <th>Season</th>\n",
       "      <th>City</th>\n",
       "      <th>Sport</th>\n",
       "      <th>Event</th>\n",
       "      <th>Medal</th>\n",
       "    </tr>\n",
       "  </thead>\n",
       "  <tbody>\n",
       "    <tr>\n",
       "      <th>75031</th>\n",
       "      <td>38075</td>\n",
       "      <td>Marek Galiski</td>\n",
       "      <td>M</td>\n",
       "      <td>29.0</td>\n",
       "      <td>200.0</td>\n",
       "      <td>190.0</td>\n",
       "      <td>Poland</td>\n",
       "      <td>POL</td>\n",
       "      <td>1980 Summer</td>\n",
       "      <td>1980</td>\n",
       "      <td>Summer</td>\n",
       "      <td>Moskva</td>\n",
       "      <td>Wrestling</td>\n",
       "      <td>Wrestling Men's Super-Heavyweight, Greco-Roman</td>\n",
       "      <td>NaN</td>\n",
       "    </tr>\n",
       "    <tr>\n",
       "      <th>206004</th>\n",
       "      <td>103413</td>\n",
       "      <td>Leonel Wilfredo Ruz Carmona</td>\n",
       "      <td>M</td>\n",
       "      <td>29.0</td>\n",
       "      <td>187.0</td>\n",
       "      <td>178.0</td>\n",
       "      <td>Venezuela</td>\n",
       "      <td>VEN</td>\n",
       "      <td>2004 Summer</td>\n",
       "      <td>2004</td>\n",
       "      <td>Summer</td>\n",
       "      <td>Athina</td>\n",
       "      <td>Judo</td>\n",
       "      <td>Judo Men's Heavyweight</td>\n",
       "      <td>NaN</td>\n",
       "    </tr>\n",
       "    <tr>\n",
       "      <th>206352</th>\n",
       "      <td>103580</td>\n",
       "      <td>Valentyn Rusliakov</td>\n",
       "      <td>M</td>\n",
       "      <td>28.0</td>\n",
       "      <td>187.0</td>\n",
       "      <td>180.0</td>\n",
       "      <td>Ukraine</td>\n",
       "      <td>UKR</td>\n",
       "      <td>2000 Summer</td>\n",
       "      <td>2000</td>\n",
       "      <td>Summer</td>\n",
       "      <td>Sydney</td>\n",
       "      <td>Judo</td>\n",
       "      <td>Judo Men's Heavyweight</td>\n",
       "      <td>NaN</td>\n",
       "    </tr>\n",
       "    <tr>\n",
       "      <th>205467</th>\n",
       "      <td>103159</td>\n",
       "      <td>Aytami Ruano Vega</td>\n",
       "      <td>M</td>\n",
       "      <td>27.0</td>\n",
       "      <td>200.0</td>\n",
       "      <td>198.0</td>\n",
       "      <td>Spain</td>\n",
       "      <td>ESP</td>\n",
       "      <td>2004 Summer</td>\n",
       "      <td>2004</td>\n",
       "      <td>Summer</td>\n",
       "      <td>Athina</td>\n",
       "      <td>Judo</td>\n",
       "      <td>Judo Men's Heavyweight</td>\n",
       "      <td>NaN</td>\n",
       "    </tr>\n",
       "    <tr>\n",
       "      <th>23156</th>\n",
       "      <td>12177</td>\n",
       "      <td>Ricardo Blas, Jr.</td>\n",
       "      <td>M</td>\n",
       "      <td>25.0</td>\n",
       "      <td>183.0</td>\n",
       "      <td>214.0</td>\n",
       "      <td>Guam</td>\n",
       "      <td>GUM</td>\n",
       "      <td>2012 Summer</td>\n",
       "      <td>2012</td>\n",
       "      <td>Summer</td>\n",
       "      <td>London</td>\n",
       "      <td>Judo</td>\n",
       "      <td>Judo Men's Heavyweight</td>\n",
       "      <td>NaN</td>\n",
       "    </tr>\n",
       "    <tr>\n",
       "      <th>94363</th>\n",
       "      <td>47755</td>\n",
       "      <td>Marcus Jerrold \"Mark\" Henry</td>\n",
       "      <td>M</td>\n",
       "      <td>25.0</td>\n",
       "      <td>190.0</td>\n",
       "      <td>176.5</td>\n",
       "      <td>United States</td>\n",
       "      <td>USA</td>\n",
       "      <td>1996 Summer</td>\n",
       "      <td>1996</td>\n",
       "      <td>Summer</td>\n",
       "      <td>Atlanta</td>\n",
       "      <td>Weightlifting</td>\n",
       "      <td>Weightlifting Men's Super-Heavyweight</td>\n",
       "      <td>NaN</td>\n",
       "    </tr>\n",
       "    <tr>\n",
       "      <th>237039</th>\n",
       "      <td>118869</td>\n",
       "      <td>Christopher J. \"Chris\" Taylor</td>\n",
       "      <td>M</td>\n",
       "      <td>22.0</td>\n",
       "      <td>196.0</td>\n",
       "      <td>182.0</td>\n",
       "      <td>United States</td>\n",
       "      <td>USA</td>\n",
       "      <td>1972 Summer</td>\n",
       "      <td>1972</td>\n",
       "      <td>Summer</td>\n",
       "      <td>Munich</td>\n",
       "      <td>Wrestling</td>\n",
       "      <td>Wrestling Men's Super-Heavyweight, Greco-Roman</td>\n",
       "      <td>NaN</td>\n",
       "    </tr>\n",
       "    <tr>\n",
       "      <th>237040</th>\n",
       "      <td>118869</td>\n",
       "      <td>Christopher J. \"Chris\" Taylor</td>\n",
       "      <td>M</td>\n",
       "      <td>22.0</td>\n",
       "      <td>196.0</td>\n",
       "      <td>182.0</td>\n",
       "      <td>United States</td>\n",
       "      <td>USA</td>\n",
       "      <td>1972 Summer</td>\n",
       "      <td>1972</td>\n",
       "      <td>Summer</td>\n",
       "      <td>Munich</td>\n",
       "      <td>Wrestling</td>\n",
       "      <td>Wrestling Men's Super-Heavyweight, Freestyle</td>\n",
       "      <td>Bronze</td>\n",
       "    </tr>\n",
       "    <tr>\n",
       "      <th>23155</th>\n",
       "      <td>12177</td>\n",
       "      <td>Ricardo Blas, Jr.</td>\n",
       "      <td>M</td>\n",
       "      <td>21.0</td>\n",
       "      <td>183.0</td>\n",
       "      <td>214.0</td>\n",
       "      <td>Guam</td>\n",
       "      <td>GUM</td>\n",
       "      <td>2008 Summer</td>\n",
       "      <td>2008</td>\n",
       "      <td>Summer</td>\n",
       "      <td>Beijing</td>\n",
       "      <td>Judo</td>\n",
       "      <td>Judo Men's Heavyweight</td>\n",
       "      <td>NaN</td>\n",
       "    </tr>\n",
       "    <tr>\n",
       "      <th>94362</th>\n",
       "      <td>47755</td>\n",
       "      <td>Marcus Jerrold \"Mark\" Henry</td>\n",
       "      <td>M</td>\n",
       "      <td>21.0</td>\n",
       "      <td>190.0</td>\n",
       "      <td>176.5</td>\n",
       "      <td>United States</td>\n",
       "      <td>USA</td>\n",
       "      <td>1992 Summer</td>\n",
       "      <td>1992</td>\n",
       "      <td>Summer</td>\n",
       "      <td>Barcelona</td>\n",
       "      <td>Weightlifting</td>\n",
       "      <td>Weightlifting Men's Super-Heavyweight</td>\n",
       "      <td>NaN</td>\n",
       "    </tr>\n",
       "  </tbody>\n",
       "</table>\n",
       "</div>"
      ],
      "text/plain": [
       "            ID                           Name Sex   Age  Height  Weight  \\\n",
       "75031    38075                  Marek Galiski   M  29.0   200.0   190.0   \n",
       "206004  103413    Leonel Wilfredo Ruz Carmona   M  29.0   187.0   178.0   \n",
       "206352  103580             Valentyn Rusliakov   M  28.0   187.0   180.0   \n",
       "205467  103159              Aytami Ruano Vega   M  27.0   200.0   198.0   \n",
       "23156    12177              Ricardo Blas, Jr.   M  25.0   183.0   214.0   \n",
       "94363    47755    Marcus Jerrold \"Mark\" Henry   M  25.0   190.0   176.5   \n",
       "237039  118869  Christopher J. \"Chris\" Taylor   M  22.0   196.0   182.0   \n",
       "237040  118869  Christopher J. \"Chris\" Taylor   M  22.0   196.0   182.0   \n",
       "23155    12177              Ricardo Blas, Jr.   M  21.0   183.0   214.0   \n",
       "94362    47755    Marcus Jerrold \"Mark\" Henry   M  21.0   190.0   176.5   \n",
       "\n",
       "                 Team  NOC        Games  Year  Season       City  \\\n",
       "75031          Poland  POL  1980 Summer  1980  Summer     Moskva   \n",
       "206004      Venezuela  VEN  2004 Summer  2004  Summer     Athina   \n",
       "206352        Ukraine  UKR  2000 Summer  2000  Summer     Sydney   \n",
       "205467          Spain  ESP  2004 Summer  2004  Summer     Athina   \n",
       "23156            Guam  GUM  2012 Summer  2012  Summer     London   \n",
       "94363   United States  USA  1996 Summer  1996  Summer    Atlanta   \n",
       "237039  United States  USA  1972 Summer  1972  Summer     Munich   \n",
       "237040  United States  USA  1972 Summer  1972  Summer     Munich   \n",
       "23155            Guam  GUM  2008 Summer  2008  Summer    Beijing   \n",
       "94362   United States  USA  1992 Summer  1992  Summer  Barcelona   \n",
       "\n",
       "                Sport                                           Event   Medal  \n",
       "75031       Wrestling  Wrestling Men's Super-Heavyweight, Greco-Roman     NaN  \n",
       "206004           Judo                          Judo Men's Heavyweight     NaN  \n",
       "206352           Judo                          Judo Men's Heavyweight     NaN  \n",
       "205467           Judo                          Judo Men's Heavyweight     NaN  \n",
       "23156            Judo                          Judo Men's Heavyweight     NaN  \n",
       "94363   Weightlifting           Weightlifting Men's Super-Heavyweight     NaN  \n",
       "237039      Wrestling  Wrestling Men's Super-Heavyweight, Greco-Roman     NaN  \n",
       "237040      Wrestling    Wrestling Men's Super-Heavyweight, Freestyle  Bronze  \n",
       "23155            Judo                          Judo Men's Heavyweight     NaN  \n",
       "94362   Weightlifting           Weightlifting Men's Super-Heavyweight     NaN  "
      ]
     },
     "execution_count": 18,
     "metadata": {},
     "output_type": "execute_result"
    }
   ],
   "source": [
    "df_olympic[df_olympic.Weight>175].sort_values(by='Age',ascending=False)"
   ]
  },
  {
   "cell_type": "markdown",
   "id": "200fe96c",
   "metadata": {},
   "source": [
    "## like the height the weight outliers are normal specially in Judo, Weightlifting and wrestling sports. So we decided to leave them"
   ]
  },
  {
   "cell_type": "markdown",
   "id": "c9e20b27",
   "metadata": {},
   "source": [
    "## Now we will impute the data using multivariant imputation"
   ]
  },
  {
   "cell_type": "code",
   "execution_count": 19,
   "id": "b9ec4d70",
   "metadata": {
    "id": "b9ec4d70"
   },
   "outputs": [],
   "source": [
    "df_olympic['Weight'].fillna(df_olympic.groupby(['Sex','Sport'])['Weight'].transform('median'),inplace=True)\n",
    "df_olympic['Height'].fillna(df_olympic.groupby(['Sex','Sport'])['Height'].transform('mean'),inplace=True)"
   ]
  },
  {
   "cell_type": "code",
   "execution_count": 20,
   "id": "f566f3a6",
   "metadata": {
    "colab": {
     "base_uri": "https://localhost:8080/"
    },
    "id": "f566f3a6",
    "outputId": "f57cc147-7c45-4fa9-8e8a-d173148f0797"
   },
   "outputs": [
    {
     "name": "stdout",
     "output_type": "stream",
     "text": [
      "ID             0\n",
      "Name           0\n",
      "Sex            0\n",
      "Age         9474\n",
      "Height       100\n",
      "Weight       595\n",
      "Team           0\n",
      "NOC            0\n",
      "Games          0\n",
      "Year           0\n",
      "Season         0\n",
      "City           0\n",
      "Sport          0\n",
      "Event          0\n",
      "Medal     231333\n",
      "dtype: int64\n"
     ]
    }
   ],
   "source": [
    "missing_values_count_athletes = df_olympic.isnull().sum()\n",
    "print(missing_values_count_athletes)"
   ]
  },
  {
   "cell_type": "markdown",
   "id": "3ace7c02",
   "metadata": {
    "id": "3ace7c02"
   },
   "source": [
    "## There might still be nan values because some gender and sport combinations doesnt have any weight or height enteries so for the rest of them we will fill with average of the gender"
   ]
  },
  {
   "cell_type": "code",
   "execution_count": 21,
   "id": "6c771a40",
   "metadata": {
    "id": "6c771a40"
   },
   "outputs": [],
   "source": [
    "df_olympic['Weight'].fillna(df_olympic.groupby(['Sex'])['Weight'].transform('median'),inplace=True)\n",
    "df_olympic['Height'].fillna(df_olympic.groupby(['Sex'])['Height'].transform('mean'),inplace=True)"
   ]
  },
  {
   "cell_type": "code",
   "execution_count": 22,
   "id": "77061f85",
   "metadata": {
    "colab": {
     "base_uri": "https://localhost:8080/"
    },
    "id": "77061f85",
    "outputId": "1c6e2995-e7a6-4765-a9c1-7911c2f4f3b0"
   },
   "outputs": [
    {
     "name": "stdout",
     "output_type": "stream",
     "text": [
      "ID             0\n",
      "Name           0\n",
      "Sex            0\n",
      "Age         9474\n",
      "Height         0\n",
      "Weight         0\n",
      "Team           0\n",
      "NOC            0\n",
      "Games          0\n",
      "Year           0\n",
      "Season         0\n",
      "City           0\n",
      "Sport          0\n",
      "Event          0\n",
      "Medal     231333\n",
      "dtype: int64\n"
     ]
    }
   ],
   "source": [
    "missing_values_count_athletes = df_olympic.isnull().sum()\n",
    "print(missing_values_count_athletes)"
   ]
  },
  {
   "cell_type": "markdown",
   "id": "a3a36900",
   "metadata": {
    "id": "a3a36900"
   },
   "source": [
    "### Now we have no Nan values for the height and weight but we still have a lot for the age"
   ]
  },
  {
   "cell_type": "markdown",
   "id": "92010bda",
   "metadata": {
    "id": "92010bda"
   },
   "source": [
    "# Age Imputation\n",
    "### Lets take a look at the distribution of the age"
   ]
  },
  {
   "cell_type": "code",
   "execution_count": 23,
   "id": "82dc1535",
   "metadata": {
    "colab": {
     "base_uri": "https://localhost:8080/",
     "height": 296
    },
    "id": "82dc1535",
    "outputId": "93678f4c-23d2-492d-a824-603372de75ae"
   },
   "outputs": [
    {
     "data": {
      "text/plain": [
       "<AxesSubplot:xlabel='Age', ylabel='Density'>"
      ]
     },
     "execution_count": 23,
     "metadata": {},
     "output_type": "execute_result"
    },
    {
     "data": {
      "image/png": "[encoded data removed]",
      "text/plain": [
       "<Figure size 432x288 with 1 Axes>"
      ]
     },
     "metadata": {
      "needs_background": "light"
     },
     "output_type": "display_data"
    }
   ],
   "source": [
    "sns.distplot(df_olympic[\"Age\"])"
   ]
  },
  {
   "cell_type": "markdown",
   "id": "b161d19b",
   "metadata": {
    "id": "b161d19b"
   },
   "source": [
    "### The graph is right skewed so lets check if there are any outliers"
   ]
  },
  {
   "cell_type": "code",
   "execution_count": 24,
   "id": "0a1d6b7e",
   "metadata": {
    "colab": {
     "base_uri": "https://localhost:8080/",
     "height": 296
    },
    "id": "0a1d6b7e",
    "outputId": "3d86079f-16d7-4111-ea77-cd037443eb0e"
   },
   "outputs": [
    {
     "data": {
      "text/plain": [
       "<AxesSubplot:xlabel='Age'>"
      ]
     },
     "execution_count": 24,
     "metadata": {},
     "output_type": "execute_result"
    },
    {
     "data": {
      "image/png": "[encoded data removed]",
      "text/plain": [
       "<Figure size 432x288 with 1 Axes>"
      ]
     },
     "metadata": {
      "needs_background": "light"
     },
     "output_type": "display_data"
    }
   ],
   "source": [
    "sns.boxplot(df_olympic[\"Age\"])"
   ]
  },
  {
   "cell_type": "markdown",
   "id": "ceda2cd9",
   "metadata": {
    "id": "ceda2cd9"
   },
   "source": [
    "### There seems to be many records above the maximum range which is around 40 years old so lets take a look at them"
   ]
  },
  {
   "cell_type": "code",
   "execution_count": 25,
   "id": "150dc67c",
   "metadata": {
    "colab": {
     "base_uri": "https://localhost:8080/",
     "height": 414
    },
    "id": "150dc67c",
    "outputId": "75554490-cef8-4a95-9ed4-f91338d1598b"
   },
   "outputs": [
    {
     "data": {
      "text/html": [
       "<div>\n",
       "<style scoped>\n",
       "    .dataframe tbody tr th:only-of-type {\n",
       "        vertical-align: middle;\n",
       "    }\n",
       "\n",
       "    .dataframe tbody tr th {\n",
       "        vertical-align: top;\n",
       "    }\n",
       "\n",
       "    .dataframe thead th {\n",
       "        text-align: right;\n",
       "    }\n",
       "</style>\n",
       "<table border=\"1\" class=\"dataframe\">\n",
       "  <thead>\n",
       "    <tr style=\"text-align: right;\">\n",
       "      <th></th>\n",
       "      <th>ID</th>\n",
       "      <th>Name</th>\n",
       "      <th>Sex</th>\n",
       "      <th>Age</th>\n",
       "      <th>Height</th>\n",
       "      <th>Weight</th>\n",
       "      <th>Team</th>\n",
       "      <th>NOC</th>\n",
       "      <th>Games</th>\n",
       "      <th>Year</th>\n",
       "      <th>Season</th>\n",
       "      <th>City</th>\n",
       "      <th>Sport</th>\n",
       "      <th>Event</th>\n",
       "      <th>Medal</th>\n",
       "    </tr>\n",
       "  </thead>\n",
       "  <tbody>\n",
       "    <tr>\n",
       "      <th>257054</th>\n",
       "      <td>128719</td>\n",
       "      <td>John Quincy Adams Ward</td>\n",
       "      <td>M</td>\n",
       "      <td>97.0</td>\n",
       "      <td>174.896552</td>\n",
       "      <td>76.0</td>\n",
       "      <td>United States</td>\n",
       "      <td>USA</td>\n",
       "      <td>1928 Summer</td>\n",
       "      <td>1928</td>\n",
       "      <td>Summer</td>\n",
       "      <td>Amsterdam</td>\n",
       "      <td>Art Competitions</td>\n",
       "      <td>Art Competitions Mixed Sculpturing, Statues</td>\n",
       "      <td>NaN</td>\n",
       "    </tr>\n",
       "    <tr>\n",
       "      <th>98118</th>\n",
       "      <td>49663</td>\n",
       "      <td>Winslow Homer</td>\n",
       "      <td>M</td>\n",
       "      <td>96.0</td>\n",
       "      <td>174.896552</td>\n",
       "      <td>76.0</td>\n",
       "      <td>United States</td>\n",
       "      <td>USA</td>\n",
       "      <td>1932 Summer</td>\n",
       "      <td>1932</td>\n",
       "      <td>Summer</td>\n",
       "      <td>Los Angeles</td>\n",
       "      <td>Art Competitions</td>\n",
       "      <td>Art Competitions Mixed Painting, Unknown Event</td>\n",
       "      <td>NaN</td>\n",
       "    </tr>\n",
       "    <tr>\n",
       "      <th>60861</th>\n",
       "      <td>31173</td>\n",
       "      <td>Thomas Cowperthwait Eakins</td>\n",
       "      <td>M</td>\n",
       "      <td>88.0</td>\n",
       "      <td>174.896552</td>\n",
       "      <td>76.0</td>\n",
       "      <td>United States</td>\n",
       "      <td>USA</td>\n",
       "      <td>1932 Summer</td>\n",
       "      <td>1932</td>\n",
       "      <td>Summer</td>\n",
       "      <td>Los Angeles</td>\n",
       "      <td>Art Competitions</td>\n",
       "      <td>Art Competitions Mixed Painting, Unknown Event</td>\n",
       "      <td>NaN</td>\n",
       "    </tr>\n",
       "    <tr>\n",
       "      <th>60862</th>\n",
       "      <td>31173</td>\n",
       "      <td>Thomas Cowperthwait Eakins</td>\n",
       "      <td>M</td>\n",
       "      <td>88.0</td>\n",
       "      <td>174.896552</td>\n",
       "      <td>76.0</td>\n",
       "      <td>United States</td>\n",
       "      <td>USA</td>\n",
       "      <td>1932 Summer</td>\n",
       "      <td>1932</td>\n",
       "      <td>Summer</td>\n",
       "      <td>Los Angeles</td>\n",
       "      <td>Art Competitions</td>\n",
       "      <td>Art Competitions Mixed Painting, Unknown Event</td>\n",
       "      <td>NaN</td>\n",
       "    </tr>\n",
       "    <tr>\n",
       "      <th>60863</th>\n",
       "      <td>31173</td>\n",
       "      <td>Thomas Cowperthwait Eakins</td>\n",
       "      <td>M</td>\n",
       "      <td>88.0</td>\n",
       "      <td>174.896552</td>\n",
       "      <td>76.0</td>\n",
       "      <td>United States</td>\n",
       "      <td>USA</td>\n",
       "      <td>1932 Summer</td>\n",
       "      <td>1932</td>\n",
       "      <td>Summer</td>\n",
       "      <td>Los Angeles</td>\n",
       "      <td>Art Competitions</td>\n",
       "      <td>Art Competitions Mixed Painting, Unknown Event</td>\n",
       "      <td>NaN</td>\n",
       "    </tr>\n",
       "    <tr>\n",
       "      <th>...</th>\n",
       "      <td>...</td>\n",
       "      <td>...</td>\n",
       "      <td>...</td>\n",
       "      <td>...</td>\n",
       "      <td>...</td>\n",
       "      <td>...</td>\n",
       "      <td>...</td>\n",
       "      <td>...</td>\n",
       "      <td>...</td>\n",
       "      <td>...</td>\n",
       "      <td>...</td>\n",
       "      <td>...</td>\n",
       "      <td>...</td>\n",
       "      <td>...</td>\n",
       "      <td>...</td>\n",
       "    </tr>\n",
       "    <tr>\n",
       "      <th>178890</th>\n",
       "      <td>89902</td>\n",
       "      <td>sten stensen</td>\n",
       "      <td>M</td>\n",
       "      <td>41.0</td>\n",
       "      <td>175.977163</td>\n",
       "      <td>77.0</td>\n",
       "      <td>Norway</td>\n",
       "      <td>NOR</td>\n",
       "      <td>1920 Summer</td>\n",
       "      <td>1920</td>\n",
       "      <td>Summer</td>\n",
       "      <td>Antwerpen</td>\n",
       "      <td>Shooting</td>\n",
       "      <td>Shooting Men's Military Rifle, Prone, 600 metr...</td>\n",
       "      <td>NaN</td>\n",
       "    </tr>\n",
       "    <tr>\n",
       "      <th>178891</th>\n",
       "      <td>89902</td>\n",
       "      <td>sten stensen</td>\n",
       "      <td>M</td>\n",
       "      <td>41.0</td>\n",
       "      <td>175.977163</td>\n",
       "      <td>77.0</td>\n",
       "      <td>Norway</td>\n",
       "      <td>NOR</td>\n",
       "      <td>1920 Summer</td>\n",
       "      <td>1920</td>\n",
       "      <td>Summer</td>\n",
       "      <td>Antwerpen</td>\n",
       "      <td>Shooting</td>\n",
       "      <td>Shooting Men's Military Rifle, Standing, 300 m...</td>\n",
       "      <td>NaN</td>\n",
       "    </tr>\n",
       "    <tr>\n",
       "      <th>178892</th>\n",
       "      <td>89902</td>\n",
       "      <td>sten stensen</td>\n",
       "      <td>M</td>\n",
       "      <td>41.0</td>\n",
       "      <td>175.977163</td>\n",
       "      <td>77.0</td>\n",
       "      <td>Norway</td>\n",
       "      <td>NOR</td>\n",
       "      <td>1920 Summer</td>\n",
       "      <td>1920</td>\n",
       "      <td>Summer</td>\n",
       "      <td>Antwerpen</td>\n",
       "      <td>Shooting</td>\n",
       "      <td>Shooting Men's Military Rifle, 300 metres and ...</td>\n",
       "      <td>Silver</td>\n",
       "    </tr>\n",
       "    <tr>\n",
       "      <th>178893</th>\n",
       "      <td>89902</td>\n",
       "      <td>sten stensen</td>\n",
       "      <td>M</td>\n",
       "      <td>41.0</td>\n",
       "      <td>175.977163</td>\n",
       "      <td>77.0</td>\n",
       "      <td>Norway</td>\n",
       "      <td>NOR</td>\n",
       "      <td>1920 Summer</td>\n",
       "      <td>1920</td>\n",
       "      <td>Summer</td>\n",
       "      <td>Antwerpen</td>\n",
       "      <td>Shooting</td>\n",
       "      <td>Shooting Men's Small-Bore Rifle, Standing, 50 ...</td>\n",
       "      <td>NaN</td>\n",
       "    </tr>\n",
       "    <tr>\n",
       "      <th>128576</th>\n",
       "      <td>64738</td>\n",
       "      <td>Wilhelm \"Willi\" Kuhweide</td>\n",
       "      <td>M</td>\n",
       "      <td>41.0</td>\n",
       "      <td>184.000000</td>\n",
       "      <td>88.0</td>\n",
       "      <td>West Germany</td>\n",
       "      <td>FRG</td>\n",
       "      <td>1984 Summer</td>\n",
       "      <td>1984</td>\n",
       "      <td>Summer</td>\n",
       "      <td>Los Angeles</td>\n",
       "      <td>Sailing</td>\n",
       "      <td>Sailing Mixed Three Person Keelboat</td>\n",
       "      <td>NaN</td>\n",
       "    </tr>\n",
       "  </tbody>\n",
       "</table>\n",
       "<p>7701 rows × 15 columns</p>\n",
       "</div>"
      ],
      "text/plain": [
       "            ID                        Name Sex   Age      Height  Weight  \\\n",
       "257054  128719      John Quincy Adams Ward   M  97.0  174.896552    76.0   \n",
       "98118    49663               Winslow Homer   M  96.0  174.896552    76.0   \n",
       "60861    31173  Thomas Cowperthwait Eakins   M  88.0  174.896552    76.0   \n",
       "60862    31173  Thomas Cowperthwait Eakins   M  88.0  174.896552    76.0   \n",
       "60863    31173  Thomas Cowperthwait Eakins   M  88.0  174.896552    76.0   \n",
       "...        ...                         ...  ..   ...         ...     ...   \n",
       "178890   89902                sten stensen   M  41.0  175.977163    77.0   \n",
       "178891   89902                sten stensen   M  41.0  175.977163    77.0   \n",
       "178892   89902                sten stensen   M  41.0  175.977163    77.0   \n",
       "178893   89902                sten stensen   M  41.0  175.977163    77.0   \n",
       "128576   64738    Wilhelm \"Willi\" Kuhweide   M  41.0  184.000000    88.0   \n",
       "\n",
       "                 Team  NOC        Games  Year  Season         City  \\\n",
       "257054  United States  USA  1928 Summer  1928  Summer    Amsterdam   \n",
       "98118   United States  USA  1932 Summer  1932  Summer  Los Angeles   \n",
       "60861   United States  USA  1932 Summer  1932  Summer  Los Angeles   \n",
       "60862   United States  USA  1932 Summer  1932  Summer  Los Angeles   \n",
       "60863   United States  USA  1932 Summer  1932  Summer  Los Angeles   \n",
       "...               ...  ...          ...   ...     ...          ...   \n",
       "178890         Norway  NOR  1920 Summer  1920  Summer    Antwerpen   \n",
       "178891         Norway  NOR  1920 Summer  1920  Summer    Antwerpen   \n",
       "178892         Norway  NOR  1920 Summer  1920  Summer    Antwerpen   \n",
       "178893         Norway  NOR  1920 Summer  1920  Summer    Antwerpen   \n",
       "128576   West Germany  FRG  1984 Summer  1984  Summer  Los Angeles   \n",
       "\n",
       "                   Sport                                              Event  \\\n",
       "257054  Art Competitions        Art Competitions Mixed Sculpturing, Statues   \n",
       "98118   Art Competitions     Art Competitions Mixed Painting, Unknown Event   \n",
       "60861   Art Competitions     Art Competitions Mixed Painting, Unknown Event   \n",
       "60862   Art Competitions     Art Competitions Mixed Painting, Unknown Event   \n",
       "60863   Art Competitions     Art Competitions Mixed Painting, Unknown Event   \n",
       "...                  ...                                                ...   \n",
       "178890          Shooting  Shooting Men's Military Rifle, Prone, 600 metr...   \n",
       "178891          Shooting  Shooting Men's Military Rifle, Standing, 300 m...   \n",
       "178892          Shooting  Shooting Men's Military Rifle, 300 metres and ...   \n",
       "178893          Shooting  Shooting Men's Small-Bore Rifle, Standing, 50 ...   \n",
       "128576           Sailing                Sailing Mixed Three Person Keelboat   \n",
       "\n",
       "         Medal  \n",
       "257054     NaN  \n",
       "98118      NaN  \n",
       "60861      NaN  \n",
       "60862      NaN  \n",
       "60863      NaN  \n",
       "...        ...  \n",
       "178890     NaN  \n",
       "178891     NaN  \n",
       "178892  Silver  \n",
       "178893     NaN  \n",
       "128576     NaN  \n",
       "\n",
       "[7701 rows x 15 columns]"
      ]
     },
     "execution_count": 25,
     "metadata": {},
     "output_type": "execute_result"
    }
   ],
   "source": [
    "df_olympic[df_olympic.Age>40].sort_values(by='Age',ascending=False)"
   ]
  },
  {
   "cell_type": "markdown",
   "id": "f7a302db",
   "metadata": {
    "id": "f7a302db"
   },
   "source": [
    "### We can notice that most of the extreme age outliers are participants of the Art Competitions Event. After doing some research to check if those age values are error or real values. We discovered that they are real since in the early years there was art competitions for artists to show their sculputres and paitings and it was normal to find a lot of old participants. So we will leave these valuse."
   ]
  },
  {
   "cell_type": "markdown",
   "id": "819db73b",
   "metadata": {
    "id": "819db73b"
   },
   "source": [
    "### Since there are no false outliers we will fill in the missing values in the age column with the median of the age.\n",
    "### The median age of our dataset is 24 and after doing some research it is actually the median age of olympic participants."
   ]
  },
  {
   "cell_type": "code",
   "execution_count": 26,
   "id": "38969f77",
   "metadata": {
    "colab": {
     "base_uri": "https://localhost:8080/"
    },
    "id": "38969f77",
    "outputId": "e77214e8-2897-4535-8dac-01a15a35c009"
   },
   "outputs": [
    {
     "data": {
      "text/plain": [
       "24.0"
      ]
     },
     "execution_count": 26,
     "metadata": {},
     "output_type": "execute_result"
    }
   ],
   "source": [
    "df_olympic[\"Age\"].median()"
   ]
  },
  {
   "cell_type": "code",
   "execution_count": 27,
   "id": "8e69e85a",
   "metadata": {
    "id": "8e69e85a"
   },
   "outputs": [],
   "source": [
    "df_olympic['Age'].fillna(df_olympic.Age.median(),inplace=True)"
   ]
  },
  {
   "cell_type": "markdown",
   "id": "RwaftJ7uy67X",
   "metadata": {
    "id": "RwaftJ7uy67X"
   },
   "source": [
    "### We can see there are no Nan values in our numerical columns and as for the nan values in the medals we can filter those records out when wanting to deal with olympic medalists only. but we will leave them for now"
   ]
  },
  {
   "cell_type": "code",
   "execution_count": 28,
   "id": "707ba8d6",
   "metadata": {
    "colab": {
     "base_uri": "https://localhost:8080/"
    },
    "id": "707ba8d6",
    "outputId": "a4bb3c97-ab4b-4bde-f507-8b920265552f"
   },
   "outputs": [
    {
     "name": "stdout",
     "output_type": "stream",
     "text": [
      "ID             0\n",
      "Name           0\n",
      "Sex            0\n",
      "Age            0\n",
      "Height         0\n",
      "Weight         0\n",
      "Team           0\n",
      "NOC            0\n",
      "Games          0\n",
      "Year           0\n",
      "Season         0\n",
      "City           0\n",
      "Sport          0\n",
      "Event          0\n",
      "Medal     231333\n",
      "dtype: int64\n"
     ]
    }
   ],
   "source": [
    "missing_values_count_athletes = df_olympic.isnull().sum()\n",
    "print(missing_values_count_athletes)"
   ]
  },
  {
   "cell_type": "markdown",
   "id": "_O486UC6y09l",
   "metadata": {
    "id": "_O486UC6y09l"
   },
   "source": [
    "# "
   ]
  },
  {
   "cell_type": "markdown",
   "id": "f1e91c3a",
   "metadata": {},
   "source": [
    "# Research Questions\n",
    "\n",
    "#### 1- Countries that won most medals ?   : Using medalist integrated dataframe\n",
    "#### 2- Countries that won most medals in summer olympics?\n",
    "#### 3- Countries that won most medals in winter olympics?\n",
    "#### ^^ all of the above questions again but in order of Gold medals^^\n",
    "#### 4.A- For the number one country in summer games what is the sport that gianed it the most medals?\n",
    "#### 4.B- Top countries in that sport?\n",
    "#### 5.A- Is there a relation between this sport and the players average height in the top teams?\n",
    "#### 5.B- Is there a relation between this sport and the players average height across all teams?\n",
    "#### 6.A- For the number one country in winter games what is the sport that gained it the most medals?\n",
    "#### 6.B- Top countries in that sport?\n",
    "#### 7.A- Is there a relation between this sport and players average BMI for the top teams?  :Using BMI Column\n",
    "#### 7.B- Is there a relation between this sport and players average BMI for all teams?     : Using BMI column\n",
    "#### 8- Athletes that brought the most medals to their teams? : Using All time total column"
   ]
  },
  {
   "cell_type": "markdown",
   "id": "33beeafb",
   "metadata": {},
   "source": [
    "# Milestone 2"
   ]
  },
  {
   "cell_type": "markdown",
   "id": "a38227be",
   "metadata": {},
   "source": [
    "# 1-Data Integration"
   ]
  },
  {
   "cell_type": "markdown",
   "id": "00de8442",
   "metadata": {},
   "source": [
    "## Merge NOC with olympic"
   ]
  },
  {
   "cell_type": "code",
   "execution_count": 29,
   "id": "81a05568",
   "metadata": {},
   "outputs": [
    {
     "data": {
      "text/html": [
       "<div>\n",
       "<style scoped>\n",
       "    .dataframe tbody tr th:only-of-type {\n",
       "        vertical-align: middle;\n",
       "    }\n",
       "\n",
       "    .dataframe tbody tr th {\n",
       "        vertical-align: top;\n",
       "    }\n",
       "\n",
       "    .dataframe thead th {\n",
       "        text-align: right;\n",
       "    }\n",
       "</style>\n",
       "<table border=\"1\" class=\"dataframe\">\n",
       "  <thead>\n",
       "    <tr style=\"text-align: right;\">\n",
       "      <th></th>\n",
       "      <th>NOC</th>\n",
       "      <th>region</th>\n",
       "      <th>notes</th>\n",
       "    </tr>\n",
       "  </thead>\n",
       "  <tbody>\n",
       "    <tr>\n",
       "      <th>0</th>\n",
       "      <td>AFG</td>\n",
       "      <td>Afghanistan</td>\n",
       "      <td>NaN</td>\n",
       "    </tr>\n",
       "    <tr>\n",
       "      <th>1</th>\n",
       "      <td>AHO</td>\n",
       "      <td>Curacao</td>\n",
       "      <td>Netherlands Antilles</td>\n",
       "    </tr>\n",
       "    <tr>\n",
       "      <th>2</th>\n",
       "      <td>ALB</td>\n",
       "      <td>Albania</td>\n",
       "      <td>NaN</td>\n",
       "    </tr>\n",
       "    <tr>\n",
       "      <th>3</th>\n",
       "      <td>ALG</td>\n",
       "      <td>Algeria</td>\n",
       "      <td>NaN</td>\n",
       "    </tr>\n",
       "    <tr>\n",
       "      <th>4</th>\n",
       "      <td>AND</td>\n",
       "      <td>Andorra</td>\n",
       "      <td>NaN</td>\n",
       "    </tr>\n",
       "  </tbody>\n",
       "</table>\n",
       "</div>"
      ],
      "text/plain": [
       "   NOC       region                 notes\n",
       "0  AFG  Afghanistan                   NaN\n",
       "1  AHO      Curacao  Netherlands Antilles\n",
       "2  ALB      Albania                   NaN\n",
       "3  ALG      Algeria                   NaN\n",
       "4  AND      Andorra                   NaN"
      ]
     },
     "execution_count": 29,
     "metadata": {},
     "output_type": "execute_result"
    }
   ],
   "source": [
    "df_regions = pd.read_csv('noc_regions.csv')\n",
    "df_regions.head()"
   ]
  },
  {
   "cell_type": "code",
   "execution_count": 30,
   "id": "9215631e",
   "metadata": {
    "scrolled": false
   },
   "outputs": [
    {
     "data": {
      "text/html": [
       "<div>\n",
       "<style scoped>\n",
       "    .dataframe tbody tr th:only-of-type {\n",
       "        vertical-align: middle;\n",
       "    }\n",
       "\n",
       "    .dataframe tbody tr th {\n",
       "        vertical-align: top;\n",
       "    }\n",
       "\n",
       "    .dataframe thead th {\n",
       "        text-align: right;\n",
       "    }\n",
       "</style>\n",
       "<table border=\"1\" class=\"dataframe\">\n",
       "  <thead>\n",
       "    <tr style=\"text-align: right;\">\n",
       "      <th></th>\n",
       "      <th>Team</th>\n",
       "      <th>NOC</th>\n",
       "      <th>Year</th>\n",
       "      <th>Medal</th>\n",
       "      <th>region</th>\n",
       "    </tr>\n",
       "  </thead>\n",
       "  <tbody>\n",
       "    <tr>\n",
       "      <th>0</th>\n",
       "      <td>Denmark/Sweden</td>\n",
       "      <td>DEN</td>\n",
       "      <td>1900</td>\n",
       "      <td>Gold</td>\n",
       "      <td>Denmark</td>\n",
       "    </tr>\n",
       "    <tr>\n",
       "      <th>1</th>\n",
       "      <td>Denmark</td>\n",
       "      <td>DEN</td>\n",
       "      <td>1920</td>\n",
       "      <td>Gold</td>\n",
       "      <td>Denmark</td>\n",
       "    </tr>\n",
       "    <tr>\n",
       "      <th>2</th>\n",
       "      <td>Nykjbings paa Falster</td>\n",
       "      <td>DEN</td>\n",
       "      <td>1912</td>\n",
       "      <td>Gold</td>\n",
       "      <td>Denmark</td>\n",
       "    </tr>\n",
       "    <tr>\n",
       "      <th>3</th>\n",
       "      <td>Denmark</td>\n",
       "      <td>DEN</td>\n",
       "      <td>1906</td>\n",
       "      <td>Gold</td>\n",
       "      <td>Denmark</td>\n",
       "    </tr>\n",
       "    <tr>\n",
       "      <th>4</th>\n",
       "      <td>Denmark</td>\n",
       "      <td>DEN</td>\n",
       "      <td>1908</td>\n",
       "      <td>Bronze</td>\n",
       "      <td>Denmark</td>\n",
       "    </tr>\n",
       "    <tr>\n",
       "      <th>5</th>\n",
       "      <td>Denmark</td>\n",
       "      <td>DEN</td>\n",
       "      <td>1996</td>\n",
       "      <td>Gold</td>\n",
       "      <td>Denmark</td>\n",
       "    </tr>\n",
       "    <tr>\n",
       "      <th>6</th>\n",
       "      <td>Denmark</td>\n",
       "      <td>DEN</td>\n",
       "      <td>2016</td>\n",
       "      <td>Bronze</td>\n",
       "      <td>Denmark</td>\n",
       "    </tr>\n",
       "    <tr>\n",
       "      <th>7</th>\n",
       "      <td>Denmark</td>\n",
       "      <td>DEN</td>\n",
       "      <td>1912</td>\n",
       "      <td>Bronze</td>\n",
       "      <td>Denmark</td>\n",
       "    </tr>\n",
       "    <tr>\n",
       "      <th>8</th>\n",
       "      <td>Denmark</td>\n",
       "      <td>DEN</td>\n",
       "      <td>1996</td>\n",
       "      <td>Gold</td>\n",
       "      <td>Denmark</td>\n",
       "    </tr>\n",
       "    <tr>\n",
       "      <th>9</th>\n",
       "      <td>Denmark</td>\n",
       "      <td>DEN</td>\n",
       "      <td>2000</td>\n",
       "      <td>Gold</td>\n",
       "      <td>Denmark</td>\n",
       "    </tr>\n",
       "  </tbody>\n",
       "</table>\n",
       "</div>"
      ],
      "text/plain": [
       "                    Team  NOC  Year   Medal   region\n",
       "0         Denmark/Sweden  DEN  1900    Gold  Denmark\n",
       "1                Denmark  DEN  1920    Gold  Denmark\n",
       "2  Nykjbings paa Falster  DEN  1912    Gold  Denmark\n",
       "3                Denmark  DEN  1906    Gold  Denmark\n",
       "4                Denmark  DEN  1908  Bronze  Denmark\n",
       "5                Denmark  DEN  1996    Gold  Denmark\n",
       "6                Denmark  DEN  2016  Bronze  Denmark\n",
       "7                Denmark  DEN  1912  Bronze  Denmark\n",
       "8                Denmark  DEN  1996    Gold  Denmark\n",
       "9                Denmark  DEN  2000    Gold  Denmark"
      ]
     },
     "execution_count": 30,
     "metadata": {},
     "output_type": "execute_result"
    }
   ],
   "source": [
    "req=df_olympic[['Team','NOC','Year','Medal']][~df_olympic['Medal']. isna()]\n",
    "df_olympic_noc=pd.merge(req, df_regions).drop(['notes'],axis=1)\n",
    "df_olympic_noc.head(10)"
   ]
  },
  {
   "cell_type": "markdown",
   "id": "7284207a",
   "metadata": {},
   "source": [
    "## Now we need to add the Medals dataset\n",
    "#### The Medals dataset includes the number of medals each team has won across 2021 olympics so before adding it to our existing dataset we want our dataset to have the same look and columns which are Team/NOC, Gold, Silver, Bronze, Total.\n",
    "#### We need to add the year column with 2021 to the medals dataframe. We will also drop the rest of the columns from the medals because we dont need them\n"
   ]
  },
  {
   "cell_type": "code",
   "execution_count": 31,
   "id": "59db186a",
   "metadata": {
    "scrolled": true
   },
   "outputs": [
    {
     "data": {
      "text/html": [
       "<div>\n",
       "<style scoped>\n",
       "    .dataframe tbody tr th:only-of-type {\n",
       "        vertical-align: middle;\n",
       "    }\n",
       "\n",
       "    .dataframe tbody tr th {\n",
       "        vertical-align: top;\n",
       "    }\n",
       "\n",
       "    .dataframe thead th {\n",
       "        text-align: right;\n",
       "    }\n",
       "</style>\n",
       "<table border=\"1\" class=\"dataframe\">\n",
       "  <thead>\n",
       "    <tr style=\"text-align: right;\">\n",
       "      <th></th>\n",
       "      <th>Rank</th>\n",
       "      <th>Team/NOC</th>\n",
       "      <th>Gold</th>\n",
       "      <th>Silver</th>\n",
       "      <th>Bronze</th>\n",
       "      <th>Total</th>\n",
       "      <th>Rank by Total</th>\n",
       "    </tr>\n",
       "  </thead>\n",
       "  <tbody>\n",
       "    <tr>\n",
       "      <th>0</th>\n",
       "      <td>1</td>\n",
       "      <td>United States of America</td>\n",
       "      <td>39</td>\n",
       "      <td>41</td>\n",
       "      <td>33</td>\n",
       "      <td>113</td>\n",
       "      <td>1</td>\n",
       "    </tr>\n",
       "    <tr>\n",
       "      <th>1</th>\n",
       "      <td>2</td>\n",
       "      <td>People's Republic of China</td>\n",
       "      <td>38</td>\n",
       "      <td>32</td>\n",
       "      <td>18</td>\n",
       "      <td>88</td>\n",
       "      <td>2</td>\n",
       "    </tr>\n",
       "    <tr>\n",
       "      <th>2</th>\n",
       "      <td>3</td>\n",
       "      <td>Japan</td>\n",
       "      <td>27</td>\n",
       "      <td>14</td>\n",
       "      <td>17</td>\n",
       "      <td>58</td>\n",
       "      <td>5</td>\n",
       "    </tr>\n",
       "    <tr>\n",
       "      <th>3</th>\n",
       "      <td>4</td>\n",
       "      <td>Great Britain</td>\n",
       "      <td>22</td>\n",
       "      <td>21</td>\n",
       "      <td>22</td>\n",
       "      <td>65</td>\n",
       "      <td>4</td>\n",
       "    </tr>\n",
       "    <tr>\n",
       "      <th>4</th>\n",
       "      <td>5</td>\n",
       "      <td>ROC</td>\n",
       "      <td>20</td>\n",
       "      <td>28</td>\n",
       "      <td>23</td>\n",
       "      <td>71</td>\n",
       "      <td>3</td>\n",
       "    </tr>\n",
       "  </tbody>\n",
       "</table>\n",
       "</div>"
      ],
      "text/plain": [
       "   Rank                    Team/NOC  Gold  Silver  Bronze  Total  \\\n",
       "0     1    United States of America    39      41      33    113   \n",
       "1     2  People's Republic of China    38      32      18     88   \n",
       "2     3                       Japan    27      14      17     58   \n",
       "3     4               Great Britain    22      21      22     65   \n",
       "4     5                         ROC    20      28      23     71   \n",
       "\n",
       "   Rank by Total  \n",
       "0              1  \n",
       "1              2  \n",
       "2              5  \n",
       "3              4  \n",
       "4              3  "
      ]
     },
     "execution_count": 31,
     "metadata": {},
     "output_type": "execute_result"
    }
   ],
   "source": [
    "df_medals= pd.read_csv('Medals.csv')\n",
    "df_medals.head()"
   ]
  },
  {
   "cell_type": "code",
   "execution_count": 32,
   "id": "7444305d",
   "metadata": {},
   "outputs": [],
   "source": [
    "df_medals=df_medals.drop(['Rank','Rank by Total'],axis=1)\n",
    "df_medals['Year']=2021"
   ]
  },
  {
   "cell_type": "code",
   "execution_count": 33,
   "id": "80d60a4e",
   "metadata": {},
   "outputs": [],
   "source": [
    "df_medals=df_medals[['Team/NOC','Gold','Silver','Bronze','Total']]"
   ]
  },
  {
   "cell_type": "code",
   "execution_count": 34,
   "id": "d51b8e76",
   "metadata": {
    "scrolled": true
   },
   "outputs": [
    {
     "data": {
      "text/html": [
       "<div>\n",
       "<style scoped>\n",
       "    .dataframe tbody tr th:only-of-type {\n",
       "        vertical-align: middle;\n",
       "    }\n",
       "\n",
       "    .dataframe tbody tr th {\n",
       "        vertical-align: top;\n",
       "    }\n",
       "\n",
       "    .dataframe thead th {\n",
       "        text-align: right;\n",
       "    }\n",
       "</style>\n",
       "<table border=\"1\" class=\"dataframe\">\n",
       "  <thead>\n",
       "    <tr style=\"text-align: right;\">\n",
       "      <th></th>\n",
       "      <th>Team/NOC</th>\n",
       "      <th>Gold</th>\n",
       "      <th>Silver</th>\n",
       "      <th>Bronze</th>\n",
       "      <th>Total</th>\n",
       "    </tr>\n",
       "  </thead>\n",
       "  <tbody>\n",
       "    <tr>\n",
       "      <th>0</th>\n",
       "      <td>United States of America</td>\n",
       "      <td>39</td>\n",
       "      <td>41</td>\n",
       "      <td>33</td>\n",
       "      <td>113</td>\n",
       "    </tr>\n",
       "    <tr>\n",
       "      <th>1</th>\n",
       "      <td>People's Republic of China</td>\n",
       "      <td>38</td>\n",
       "      <td>32</td>\n",
       "      <td>18</td>\n",
       "      <td>88</td>\n",
       "    </tr>\n",
       "    <tr>\n",
       "      <th>2</th>\n",
       "      <td>Japan</td>\n",
       "      <td>27</td>\n",
       "      <td>14</td>\n",
       "      <td>17</td>\n",
       "      <td>58</td>\n",
       "    </tr>\n",
       "    <tr>\n",
       "      <th>3</th>\n",
       "      <td>Great Britain</td>\n",
       "      <td>22</td>\n",
       "      <td>21</td>\n",
       "      <td>22</td>\n",
       "      <td>65</td>\n",
       "    </tr>\n",
       "    <tr>\n",
       "      <th>4</th>\n",
       "      <td>ROC</td>\n",
       "      <td>20</td>\n",
       "      <td>28</td>\n",
       "      <td>23</td>\n",
       "      <td>71</td>\n",
       "    </tr>\n",
       "  </tbody>\n",
       "</table>\n",
       "</div>"
      ],
      "text/plain": [
       "                     Team/NOC  Gold  Silver  Bronze  Total\n",
       "0    United States of America    39      41      33    113\n",
       "1  People's Republic of China    38      32      18     88\n",
       "2                       Japan    27      14      17     58\n",
       "3               Great Britain    22      21      22     65\n",
       "4                         ROC    20      28      23     71"
      ]
     },
     "execution_count": 34,
     "metadata": {},
     "output_type": "execute_result"
    }
   ],
   "source": [
    "df_medals.head()"
   ]
  },
  {
   "cell_type": "markdown",
   "id": "8161de1b",
   "metadata": {},
   "source": [
    "## Now we will create the same look for our dataset\n",
    "## Add: Gold,Silver,Bronze,Total for each year"
   ]
  },
  {
   "cell_type": "code",
   "execution_count": 35,
   "id": "420658c3",
   "metadata": {},
   "outputs": [],
   "source": [
    "# Create the count for each column\n",
    "gold = df_olympic_noc.loc[df_olympic_noc['Medal']=='Gold']\n",
    "gold = pd.Series(gold.groupby(['NOC','Year'])['Medal'].size(), dtype=np.int64,name='Gold')\n",
    "silver = df_olympic_noc.loc[df_olympic_noc['Medal']=='Silver']\n",
    "silver = pd.Series(silver.groupby(['NOC','Year'])['Medal'].size(), dtype=np.int64,name='Silver')\n",
    "bronze = df_olympic_noc.loc[df_olympic_noc['Medal']=='Bronze']\n",
    "bronze = pd.Series(bronze.groupby(['NOC','Year'])['Medal'].size(), dtype=np.int64,name='Bronze')\n",
    "total= pd.Series(df_olympic_noc.groupby(['NOC','Year']).size(), dtype=np.int64, name='Total')"
   ]
  },
  {
   "cell_type": "code",
   "execution_count": 36,
   "id": "0d1c5ec3",
   "metadata": {},
   "outputs": [],
   "source": [
    "# Merge the columns\n",
    "new_olympic =pd.merge(df_olympic_noc,gold,how='left',left_on=['NOC','Year'], right_on = ['NOC','Year'])\n",
    "new_olympic =pd.merge(new_olympic,silver,how='left',left_on=['NOC','Year'], right_on = ['NOC','Year'])\n",
    "new_olympic =pd.merge(new_olympic,bronze,how='left',left_on=['NOC','Year'], right_on = ['NOC','Year'])\n",
    "new_olympic =pd.merge(new_olympic,total,how='left',left_on=['NOC','Year'], right_on = ['NOC','Year'])\n",
    "new_olympic = new_olympic.fillna(0)\n",
    "new_olympic =new_olympic.astype({\"Gold\":'int',\"Silver\":'int', \"Bronze\":'int',  \"Total\":'int'})\n",
    "new_olympic = new_olympic.drop(['Medal','region','NOC'],axis=1)"
   ]
  },
  {
   "cell_type": "code",
   "execution_count": 37,
   "id": "4cd4a170",
   "metadata": {},
   "outputs": [],
   "source": [
    "new_olympic = new_olympic.rename(columns={\"Team\": \"Team/NOC\"})"
   ]
  },
  {
   "cell_type": "markdown",
   "id": "a087479a",
   "metadata": {},
   "source": [
    "### Now we will concatenate the 2021 results to our dataframe"
   ]
  },
  {
   "cell_type": "code",
   "execution_count": 38,
   "id": "f1f10a31",
   "metadata": {},
   "outputs": [
    {
     "data": {
      "text/plain": [
       "(93, 5)"
      ]
     },
     "execution_count": 38,
     "metadata": {},
     "output_type": "execute_result"
    }
   ],
   "source": [
    "df_medals.shape"
   ]
  },
  {
   "cell_type": "code",
   "execution_count": 39,
   "id": "d80de447",
   "metadata": {
    "scrolled": true
   },
   "outputs": [
    {
     "data": {
      "text/plain": [
       "(39774, 6)"
      ]
     },
     "execution_count": 39,
     "metadata": {},
     "output_type": "execute_result"
    }
   ],
   "source": [
    "new_olympic.shape"
   ]
  },
  {
   "cell_type": "markdown",
   "id": "1b1da671",
   "metadata": {},
   "source": [
    "## Now we have a new dataset that has each team and their medals till 2021"
   ]
  },
  {
   "cell_type": "code",
   "execution_count": 40,
   "id": "946b81e7",
   "metadata": {},
   "outputs": [
    {
     "data": {
      "text/html": [
       "<div>\n",
       "<style scoped>\n",
       "    .dataframe tbody tr th:only-of-type {\n",
       "        vertical-align: middle;\n",
       "    }\n",
       "\n",
       "    .dataframe tbody tr th {\n",
       "        vertical-align: top;\n",
       "    }\n",
       "\n",
       "    .dataframe thead th {\n",
       "        text-align: right;\n",
       "    }\n",
       "</style>\n",
       "<table border=\"1\" class=\"dataframe\">\n",
       "  <thead>\n",
       "    <tr style=\"text-align: right;\">\n",
       "      <th></th>\n",
       "      <th>Team/NOC</th>\n",
       "      <th>Year</th>\n",
       "      <th>Gold</th>\n",
       "      <th>Silver</th>\n",
       "      <th>Bronze</th>\n",
       "      <th>Total</th>\n",
       "    </tr>\n",
       "  </thead>\n",
       "  <tbody>\n",
       "    <tr>\n",
       "      <th>0</th>\n",
       "      <td>Denmark/Sweden</td>\n",
       "      <td>1900.0</td>\n",
       "      <td>4</td>\n",
       "      <td>3</td>\n",
       "      <td>2</td>\n",
       "      <td>9</td>\n",
       "    </tr>\n",
       "    <tr>\n",
       "      <th>1</th>\n",
       "      <td>Denmark</td>\n",
       "      <td>1920.0</td>\n",
       "      <td>26</td>\n",
       "      <td>44</td>\n",
       "      <td>1</td>\n",
       "      <td>71</td>\n",
       "    </tr>\n",
       "    <tr>\n",
       "      <th>2</th>\n",
       "      <td>Nykjbings paa Falster</td>\n",
       "      <td>1912.0</td>\n",
       "      <td>5</td>\n",
       "      <td>49</td>\n",
       "      <td>33</td>\n",
       "      <td>87</td>\n",
       "    </tr>\n",
       "    <tr>\n",
       "      <th>3</th>\n",
       "      <td>Denmark</td>\n",
       "      <td>1906.0</td>\n",
       "      <td>14</td>\n",
       "      <td>19</td>\n",
       "      <td>1</td>\n",
       "      <td>34</td>\n",
       "    </tr>\n",
       "    <tr>\n",
       "      <th>4</th>\n",
       "      <td>Denmark</td>\n",
       "      <td>1908.0</td>\n",
       "      <td>0</td>\n",
       "      <td>14</td>\n",
       "      <td>3</td>\n",
       "      <td>17</td>\n",
       "    </tr>\n",
       "  </tbody>\n",
       "</table>\n",
       "</div>"
      ],
      "text/plain": [
       "                Team/NOC    Year  Gold  Silver  Bronze  Total\n",
       "0         Denmark/Sweden  1900.0     4       3       2      9\n",
       "1                Denmark  1920.0    26      44       1     71\n",
       "2  Nykjbings paa Falster  1912.0     5      49      33     87\n",
       "3                Denmark  1906.0    14      19       1     34\n",
       "4                Denmark  1908.0     0      14       3     17"
      ]
     },
     "execution_count": 40,
     "metadata": {},
     "output_type": "execute_result"
    }
   ],
   "source": [
    "df_teamMedals=pd.concat([new_olympic,df_medals])\n",
    "df_teamMedals.head()"
   ]
  },
  {
   "cell_type": "code",
   "execution_count": 41,
   "id": "7c2677c0",
   "metadata": {},
   "outputs": [
    {
     "data": {
      "text/plain": [
       "(39867, 6)"
      ]
     },
     "execution_count": 41,
     "metadata": {},
     "output_type": "execute_result"
    }
   ],
   "source": [
    "df_teamMedals.shape"
   ]
  },
  {
   "cell_type": "markdown",
   "id": "3c5c52be",
   "metadata": {},
   "source": [
    "# 2- Feature Engineering"
   ]
  },
  {
   "cell_type": "markdown",
   "id": "a2f1c98b",
   "metadata": {},
   "source": [
    "## -Add BMI column for each athlete"
   ]
  },
  {
   "cell_type": "code",
   "execution_count": 42,
   "id": "5f36f119",
   "metadata": {},
   "outputs": [
    {
     "data": {
      "text/html": [
       "<div>\n",
       "<style scoped>\n",
       "    .dataframe tbody tr th:only-of-type {\n",
       "        vertical-align: middle;\n",
       "    }\n",
       "\n",
       "    .dataframe tbody tr th {\n",
       "        vertical-align: top;\n",
       "    }\n",
       "\n",
       "    .dataframe thead th {\n",
       "        text-align: right;\n",
       "    }\n",
       "</style>\n",
       "<table border=\"1\" class=\"dataframe\">\n",
       "  <thead>\n",
       "    <tr style=\"text-align: right;\">\n",
       "      <th></th>\n",
       "      <th>ID</th>\n",
       "      <th>Name</th>\n",
       "      <th>Sex</th>\n",
       "      <th>Age</th>\n",
       "      <th>Height</th>\n",
       "      <th>Weight</th>\n",
       "      <th>Team</th>\n",
       "      <th>NOC</th>\n",
       "      <th>Games</th>\n",
       "      <th>Year</th>\n",
       "      <th>Season</th>\n",
       "      <th>City</th>\n",
       "      <th>Sport</th>\n",
       "      <th>Event</th>\n",
       "      <th>Medal</th>\n",
       "      <th>BMI</th>\n",
       "    </tr>\n",
       "  </thead>\n",
       "  <tbody>\n",
       "    <tr>\n",
       "      <th>0</th>\n",
       "      <td>1</td>\n",
       "      <td>A Dijiang</td>\n",
       "      <td>M</td>\n",
       "      <td>24.0</td>\n",
       "      <td>180.000000</td>\n",
       "      <td>80.0</td>\n",
       "      <td>China</td>\n",
       "      <td>CHN</td>\n",
       "      <td>1992 Summer</td>\n",
       "      <td>1992</td>\n",
       "      <td>Summer</td>\n",
       "      <td>Barcelona</td>\n",
       "      <td>Basketball</td>\n",
       "      <td>Basketball Men's Basketball</td>\n",
       "      <td>NaN</td>\n",
       "      <td>0.246914</td>\n",
       "    </tr>\n",
       "    <tr>\n",
       "      <th>1</th>\n",
       "      <td>2</td>\n",
       "      <td>A Lamusi</td>\n",
       "      <td>M</td>\n",
       "      <td>23.0</td>\n",
       "      <td>170.000000</td>\n",
       "      <td>60.0</td>\n",
       "      <td>China</td>\n",
       "      <td>CHN</td>\n",
       "      <td>2012 Summer</td>\n",
       "      <td>2012</td>\n",
       "      <td>Summer</td>\n",
       "      <td>London</td>\n",
       "      <td>Judo</td>\n",
       "      <td>Judo Men's Extra-Lightweight</td>\n",
       "      <td>NaN</td>\n",
       "      <td>0.207612</td>\n",
       "    </tr>\n",
       "    <tr>\n",
       "      <th>2</th>\n",
       "      <td>3</td>\n",
       "      <td>Gunnar Nielsen Aaby</td>\n",
       "      <td>M</td>\n",
       "      <td>24.0</td>\n",
       "      <td>177.480339</td>\n",
       "      <td>73.0</td>\n",
       "      <td>Denmark</td>\n",
       "      <td>DEN</td>\n",
       "      <td>1920 Summer</td>\n",
       "      <td>1920</td>\n",
       "      <td>Summer</td>\n",
       "      <td>Antwerpen</td>\n",
       "      <td>Football</td>\n",
       "      <td>Football Men's Football</td>\n",
       "      <td>NaN</td>\n",
       "      <td>0.231751</td>\n",
       "    </tr>\n",
       "    <tr>\n",
       "      <th>3</th>\n",
       "      <td>4</td>\n",
       "      <td>Edgar Lindenau Aabye</td>\n",
       "      <td>M</td>\n",
       "      <td>34.0</td>\n",
       "      <td>182.480000</td>\n",
       "      <td>95.0</td>\n",
       "      <td>Denmark/Sweden</td>\n",
       "      <td>DEN</td>\n",
       "      <td>1900 Summer</td>\n",
       "      <td>1900</td>\n",
       "      <td>Summer</td>\n",
       "      <td>Paris</td>\n",
       "      <td>Tug-Of-War</td>\n",
       "      <td>Tug-Of-War Men's Tug-Of-War</td>\n",
       "      <td>Gold</td>\n",
       "      <td>0.285294</td>\n",
       "    </tr>\n",
       "    <tr>\n",
       "      <th>4</th>\n",
       "      <td>5</td>\n",
       "      <td>Christine Jacoba Aaftink</td>\n",
       "      <td>F</td>\n",
       "      <td>21.0</td>\n",
       "      <td>185.000000</td>\n",
       "      <td>82.0</td>\n",
       "      <td>Netherlands</td>\n",
       "      <td>NED</td>\n",
       "      <td>1988 Winter</td>\n",
       "      <td>1988</td>\n",
       "      <td>Winter</td>\n",
       "      <td>Calgary</td>\n",
       "      <td>Speed Skating</td>\n",
       "      <td>Speed Skating Women's 500 metres</td>\n",
       "      <td>NaN</td>\n",
       "      <td>0.239591</td>\n",
       "    </tr>\n",
       "  </tbody>\n",
       "</table>\n",
       "</div>"
      ],
      "text/plain": [
       "   ID                      Name Sex   Age      Height  Weight            Team  \\\n",
       "0   1                 A Dijiang   M  24.0  180.000000    80.0           China   \n",
       "1   2                  A Lamusi   M  23.0  170.000000    60.0           China   \n",
       "2   3       Gunnar Nielsen Aaby   M  24.0  177.480339    73.0         Denmark   \n",
       "3   4      Edgar Lindenau Aabye   M  34.0  182.480000    95.0  Denmark/Sweden   \n",
       "4   5  Christine Jacoba Aaftink   F  21.0  185.000000    82.0     Netherlands   \n",
       "\n",
       "   NOC        Games  Year  Season       City          Sport  \\\n",
       "0  CHN  1992 Summer  1992  Summer  Barcelona     Basketball   \n",
       "1  CHN  2012 Summer  2012  Summer     London           Judo   \n",
       "2  DEN  1920 Summer  1920  Summer  Antwerpen       Football   \n",
       "3  DEN  1900 Summer  1900  Summer      Paris     Tug-Of-War   \n",
       "4  NED  1988 Winter  1988  Winter    Calgary  Speed Skating   \n",
       "\n",
       "                              Event Medal       BMI  \n",
       "0       Basketball Men's Basketball   NaN  0.246914  \n",
       "1      Judo Men's Extra-Lightweight   NaN  0.207612  \n",
       "2           Football Men's Football   NaN  0.231751  \n",
       "3       Tug-Of-War Men's Tug-Of-War  Gold  0.285294  \n",
       "4  Speed Skating Women's 500 metres   NaN  0.239591  "
      ]
     },
     "execution_count": 42,
     "metadata": {},
     "output_type": "execute_result"
    }
   ],
   "source": [
    "# According to the dataset description the weight is in KG and height is in cm\n",
    "# so we will convert the height to be in meteres before converting it to BMI\n",
    "df_olympic['BMI']=(df_olympic['Weight'])/(df_olympic['Height']**2/100)\n",
    "df_olympic.head()"
   ]
  },
  {
   "cell_type": "markdown",
   "id": "c78d4d62",
   "metadata": {},
   "source": [
    "## - Add  Total : total medals for athlete in each year"
   ]
  },
  {
   "cell_type": "code",
   "execution_count": 43,
   "id": "ca2a4160",
   "metadata": {},
   "outputs": [],
   "source": [
    "df_medals=df_olympic[df_olympic['Medal'].isnull()==False]"
   ]
  },
  {
   "cell_type": "code",
   "execution_count": 44,
   "id": "ceaefdbb",
   "metadata": {},
   "outputs": [],
   "source": [
    "df_athleteTotal = pd.Series(df_medals.groupby('Name')['Name'].count().sort_values(ascending=False),name='All Time Total').fillna(0)\n",
    "df_olympic=pd.merge(df_olympic,df_athleteTotal,how='left',left_on=['Name'], right_on = ['Name'])\n",
    "df_olympic['All Time Total']=df_olympic['All Time Total'].fillna(0)\n",
    "df_olympic=df_olympic.astype({\"All Time Total\":'int'});"
   ]
  },
  {
   "cell_type": "code",
   "execution_count": 45,
   "id": "f7922a93",
   "metadata": {
    "scrolled": false
   },
   "outputs": [
    {
     "data": {
      "text/html": [
       "<div>\n",
       "<style scoped>\n",
       "    .dataframe tbody tr th:only-of-type {\n",
       "        vertical-align: middle;\n",
       "    }\n",
       "\n",
       "    .dataframe tbody tr th {\n",
       "        vertical-align: top;\n",
       "    }\n",
       "\n",
       "    .dataframe thead th {\n",
       "        text-align: right;\n",
       "    }\n",
       "</style>\n",
       "<table border=\"1\" class=\"dataframe\">\n",
       "  <thead>\n",
       "    <tr style=\"text-align: right;\">\n",
       "      <th></th>\n",
       "      <th>ID</th>\n",
       "      <th>Name</th>\n",
       "      <th>Sex</th>\n",
       "      <th>Age</th>\n",
       "      <th>Height</th>\n",
       "      <th>Weight</th>\n",
       "      <th>Team</th>\n",
       "      <th>NOC</th>\n",
       "      <th>Games</th>\n",
       "      <th>Year</th>\n",
       "      <th>Season</th>\n",
       "      <th>City</th>\n",
       "      <th>Sport</th>\n",
       "      <th>Event</th>\n",
       "      <th>Medal</th>\n",
       "      <th>BMI</th>\n",
       "      <th>All Time Total</th>\n",
       "    </tr>\n",
       "  </thead>\n",
       "  <tbody>\n",
       "    <tr>\n",
       "      <th>0</th>\n",
       "      <td>1</td>\n",
       "      <td>A Dijiang</td>\n",
       "      <td>M</td>\n",
       "      <td>24.0</td>\n",
       "      <td>180.000000</td>\n",
       "      <td>80.0</td>\n",
       "      <td>China</td>\n",
       "      <td>CHN</td>\n",
       "      <td>1992 Summer</td>\n",
       "      <td>1992</td>\n",
       "      <td>Summer</td>\n",
       "      <td>Barcelona</td>\n",
       "      <td>Basketball</td>\n",
       "      <td>Basketball Men's Basketball</td>\n",
       "      <td>NaN</td>\n",
       "      <td>0.246914</td>\n",
       "      <td>0</td>\n",
       "    </tr>\n",
       "    <tr>\n",
       "      <th>1</th>\n",
       "      <td>2</td>\n",
       "      <td>A Lamusi</td>\n",
       "      <td>M</td>\n",
       "      <td>23.0</td>\n",
       "      <td>170.000000</td>\n",
       "      <td>60.0</td>\n",
       "      <td>China</td>\n",
       "      <td>CHN</td>\n",
       "      <td>2012 Summer</td>\n",
       "      <td>2012</td>\n",
       "      <td>Summer</td>\n",
       "      <td>London</td>\n",
       "      <td>Judo</td>\n",
       "      <td>Judo Men's Extra-Lightweight</td>\n",
       "      <td>NaN</td>\n",
       "      <td>0.207612</td>\n",
       "      <td>0</td>\n",
       "    </tr>\n",
       "    <tr>\n",
       "      <th>2</th>\n",
       "      <td>3</td>\n",
       "      <td>Gunnar Nielsen Aaby</td>\n",
       "      <td>M</td>\n",
       "      <td>24.0</td>\n",
       "      <td>177.480339</td>\n",
       "      <td>73.0</td>\n",
       "      <td>Denmark</td>\n",
       "      <td>DEN</td>\n",
       "      <td>1920 Summer</td>\n",
       "      <td>1920</td>\n",
       "      <td>Summer</td>\n",
       "      <td>Antwerpen</td>\n",
       "      <td>Football</td>\n",
       "      <td>Football Men's Football</td>\n",
       "      <td>NaN</td>\n",
       "      <td>0.231751</td>\n",
       "      <td>0</td>\n",
       "    </tr>\n",
       "    <tr>\n",
       "      <th>3</th>\n",
       "      <td>4</td>\n",
       "      <td>Edgar Lindenau Aabye</td>\n",
       "      <td>M</td>\n",
       "      <td>34.0</td>\n",
       "      <td>182.480000</td>\n",
       "      <td>95.0</td>\n",
       "      <td>Denmark/Sweden</td>\n",
       "      <td>DEN</td>\n",
       "      <td>1900 Summer</td>\n",
       "      <td>1900</td>\n",
       "      <td>Summer</td>\n",
       "      <td>Paris</td>\n",
       "      <td>Tug-Of-War</td>\n",
       "      <td>Tug-Of-War Men's Tug-Of-War</td>\n",
       "      <td>Gold</td>\n",
       "      <td>0.285294</td>\n",
       "      <td>1</td>\n",
       "    </tr>\n",
       "    <tr>\n",
       "      <th>4</th>\n",
       "      <td>5</td>\n",
       "      <td>Christine Jacoba Aaftink</td>\n",
       "      <td>F</td>\n",
       "      <td>21.0</td>\n",
       "      <td>185.000000</td>\n",
       "      <td>82.0</td>\n",
       "      <td>Netherlands</td>\n",
       "      <td>NED</td>\n",
       "      <td>1988 Winter</td>\n",
       "      <td>1988</td>\n",
       "      <td>Winter</td>\n",
       "      <td>Calgary</td>\n",
       "      <td>Speed Skating</td>\n",
       "      <td>Speed Skating Women's 500 metres</td>\n",
       "      <td>NaN</td>\n",
       "      <td>0.239591</td>\n",
       "      <td>0</td>\n",
       "    </tr>\n",
       "  </tbody>\n",
       "</table>\n",
       "</div>"
      ],
      "text/plain": [
       "   ID                      Name Sex   Age      Height  Weight            Team  \\\n",
       "0   1                 A Dijiang   M  24.0  180.000000    80.0           China   \n",
       "1   2                  A Lamusi   M  23.0  170.000000    60.0           China   \n",
       "2   3       Gunnar Nielsen Aaby   M  24.0  177.480339    73.0         Denmark   \n",
       "3   4      Edgar Lindenau Aabye   M  34.0  182.480000    95.0  Denmark/Sweden   \n",
       "4   5  Christine Jacoba Aaftink   F  21.0  185.000000    82.0     Netherlands   \n",
       "\n",
       "   NOC        Games  Year  Season       City          Sport  \\\n",
       "0  CHN  1992 Summer  1992  Summer  Barcelona     Basketball   \n",
       "1  CHN  2012 Summer  2012  Summer     London           Judo   \n",
       "2  DEN  1920 Summer  1920  Summer  Antwerpen       Football   \n",
       "3  DEN  1900 Summer  1900  Summer      Paris     Tug-Of-War   \n",
       "4  NED  1988 Winter  1988  Winter    Calgary  Speed Skating   \n",
       "\n",
       "                              Event Medal       BMI  All Time Total  \n",
       "0       Basketball Men's Basketball   NaN  0.246914               0  \n",
       "1      Judo Men's Extra-Lightweight   NaN  0.207612               0  \n",
       "2           Football Men's Football   NaN  0.231751               0  \n",
       "3       Tug-Of-War Men's Tug-Of-War  Gold  0.285294               1  \n",
       "4  Speed Skating Women's 500 metres   NaN  0.239591               0  "
      ]
     },
     "execution_count": 45,
     "metadata": {},
     "output_type": "execute_result"
    }
   ],
   "source": [
    "df_olympic.head()"
   ]
  },
  {
   "cell_type": "markdown",
   "id": "485499e3",
   "metadata": {},
   "source": [
    "# Now we will try and answer the research questions"
   ]
  },
  {
   "cell_type": "markdown",
   "id": "8facf2b2",
   "metadata": {},
   "source": [
    "# Note:\n",
    "## Medals are counted per athlete in this project, unlike the wikepdia results. Since if a basketball team won gold medals they will receive a total of 10 medals however USA will have 1 gold medal added to its name in wikipedia. But we cant do this here since in a sport like Athletics there are multiple different events and some events contain teams and we dont know the who is playing what event and with which team. So we decided that medals/athlete is the best decision for this dataset."
   ]
  },
  {
   "cell_type": "markdown",
   "id": "58138269",
   "metadata": {},
   "source": [
    "\n",
    "\n",
    "# Analysing top countries with medals across history\n",
    "\n",
    "### Lets see top 5 countries with the most medals across history"
   ]
  },
  {
   "cell_type": "markdown",
   "id": "ro1aKkaKjusF",
   "metadata": {
    "id": "ro1aKkaKjusF"
   },
   "source": [
    "### Q1- Top 5 teams in total medals gained across history\n",
    "#### Used df_teamMedals that we constructed in Data Integration"
   ]
  },
  {
   "cell_type": "code",
   "execution_count": 46,
   "id": "VAUwFXORjESI",
   "metadata": {
    "colab": {
     "base_uri": "https://localhost:8080/",
     "height": 502
    },
    "id": "VAUwFXORjESI",
    "outputId": "37a1dc62-9675-4012-d76e-a9079d8df732"
   },
   "outputs": [
    {
     "data": {
      "image/png": "[encoded data removed]",
      "text/plain": [
       "<Figure size 1000x700 with 1 Axes>"
      ]
     },
     "metadata": {
      "needs_background": "light"
     },
     "output_type": "display_data"
    }
   ],
   "source": [
    "df_top=df_teamMedals\n",
    "fig,axs=plt.subplots(1,1,dpi=100)\n",
    "axs.set_ylabel('Number of medals',fontsize=15)\n",
    "axs.set_xlabel('Team',fontsize=15)\n",
    "axs.set_title('Most collected medals across history')\n",
    "ax=df_top['Team/NOC'].value_counts().head(5).plot(kind='bar',color='C3')\n",
    "plt.xticks(rotation=45)\n",
    "ax.figure.set_size_inches(10,7)"
   ]
  },
  {
   "cell_type": "markdown",
   "id": "bd4950af",
   "metadata": {},
   "source": [
    "## United states is the number one country"
   ]
  },
  {
   "cell_type": "markdown",
   "id": "chUwlxckjyX1",
   "metadata": {
    "id": "chUwlxckjyX1"
   },
   "source": [
    "### Lets see the top 5 sorted  by Gold medals but show the bronze and silver medals too for each team"
   ]
  },
  {
   "cell_type": "code",
   "execution_count": 47,
   "id": "ceT0NF-qy2xH",
   "metadata": {
    "colab": {
     "base_uri": "https://localhost:8080/",
     "height": 502
    },
    "id": "ceT0NF-qy2xH",
    "outputId": "6ec27e3e-81ed-4364-9fd9-c7846926f653"
   },
   "outputs": [
    {
     "data": {
      "image/png": "[encoded data removed]",
      "text/plain": [
       "<Figure size 720x504 with 1 Axes>"
      ]
     },
     "metadata": {
      "needs_background": "light"
     },
     "output_type": "display_data"
    }
   ],
   "source": [
    "df_medalist = df_olympic[~df_olympic.isnull().any(axis=1)]\n",
    "df_medalist_team_Gold = df_medalist.loc[df_medalist['Medal'] == 'Gold']\n",
    "df_medalist_team_Silver = df_medalist.loc[df_medalist['Medal']=='Silver']\n",
    "df_medalist_team_Bronze = df_medalist.loc[df_medalist['Medal']=='Bronze']\n",
    "\n",
    "top_Gold=df_medalist_team_Gold['Team'].value_counts().head(5)\n",
    "top_Silver=df_medalist_team_Silver['Team'].value_counts().head(5)\n",
    "top_Bronze=df_medalist_team_Bronze['Team'].value_counts().head(5)\n",
    "combined_medalists=pd.concat([top_Gold,top_Silver,top_Bronze],axis=1,join='outer')\n",
    "combined_medalists.columns=['Gold','Silver','Bronze']\n",
    "combined_medalists=combined_medalists[np.isnan(combined_medalists['Gold'])==False]\n",
    "ax = combined_medalists.plot.bar(stacked=True,color={'Bronze':'Brown','Silver':'Silver','Gold':'Gold'},title='Medal Type');\n",
    "ax.set_ylabel('Number of medals',fontsize=15)\n",
    "ax.set_xlabel('Team',fontsize=15)\n",
    "ax.set_title('Medal Type',fontsize=15)\n",
    "ax.tick_params(axis='x', labelsize=12)\n",
    "ax.tick_params(axis='y',labelsize=12)\n",
    "plt.xticks(rotation=45)\n",
    "ax.figure.set_size_inches(10,7)\n",
    "\n"
   ]
  },
  {
   "cell_type": "markdown",
   "id": "noUDatSE71Gp",
   "metadata": {
    "id": "noUDatSE71Gp"
   },
   "source": [
    "### USA is dominating all teams across all  medals as we can see from the graph, and there isnt even a close competition from other teams. But lets further analyze this and since there are two main types of olympics which are Summer and Winter olympics lets see if USA is the top in both of them"
   ]
  },
  {
   "cell_type": "markdown",
   "id": "oB5wNYER8fmj",
   "metadata": {
    "id": "oB5wNYER8fmj"
   },
   "source": [
    "# Q2 Top teams in summer games\n",
    "## Summer Results"
   ]
  },
  {
   "cell_type": "code",
   "execution_count": 48,
   "id": "EiM8CW2fkauL",
   "metadata": {
    "colab": {
     "base_uri": "https://localhost:8080/",
     "height": 502
    },
    "id": "EiM8CW2fkauL",
    "outputId": "93c76115-6d06-4497-ec57-61158eac05e1"
   },
   "outputs": [
    {
     "data": {
      "image/png": "[encoded data removed]",
      "text/plain": [
       "<Figure size 1000x700 with 1 Axes>"
      ]
     },
     "metadata": {
      "needs_background": "light"
     },
     "output_type": "display_data"
    }
   ],
   "source": [
    "df_medalist_summer = df_medalist.loc[df_medalist['Season']=='Summer']\n",
    "fig,axs=plt.subplots(1,1,dpi=100)\n",
    "axs.set_ylabel('Number of medals',fontsize=15)\n",
    "axs.set_xlabel('Country',fontsize=15)\n",
    "axs.set_title('Most collected medals in summer games across history',fontsize=15)\n",
    "axs=df_medalist_summer['Team'].value_counts().head(5).plot(kind='bar',color='C3');\n",
    "plt.xticks(rotation=45)\n",
    "axs.figure.set_size_inches(10,7)\n"
   ]
  },
  {
   "cell_type": "markdown",
   "id": "67de5c14",
   "metadata": {},
   "source": [
    "## USA number one in summer games followed by the soviet union"
   ]
  },
  {
   "cell_type": "code",
   "execution_count": 49,
   "id": "efb24f3e",
   "metadata": {
    "colab": {
     "base_uri": "https://localhost:8080/",
     "height": 502
    },
    "id": "qdvM0f_b8BkY",
    "outputId": "d324620f-5826-4406-b8e8-6392936b7e6d"
   },
   "outputs": [
    {
     "data": {
      "image/png": "[encoded data removed]",
      "text/plain": [
       "<Figure size 720x504 with 1 Axes>"
      ]
     },
     "metadata": {
      "needs_background": "light"
     },
     "output_type": "display_data"
    }
   ],
   "source": [
    "df_medalist_team_Gold = df_medalist_summer.loc[df_medalist['Medal'] == 'Gold']\n",
    "df_medalist_team_Silver = df_medalist_summer.loc[df_medalist['Medal']=='Silver']\n",
    "df_medalist_team_Bronze = df_medalist_summer.loc[df_medalist['Medal']=='Bronze']\n",
    "\n",
    "top_Gold_summer=df_medalist_team_Gold['Team'].value_counts().head(5)\n",
    "top_Silver_summer=df_medalist_team_Silver['Team'].value_counts().head(5)\n",
    "top_Bronze_summer=df_medalist_team_Bronze['Team'].value_counts().head(5)\n",
    "combined_medalists=pd.concat([top_Gold_summer,top_Silver_summer,top_Bronze_summer],axis=1,join='outer')\n",
    "combined_medalists.columns=['Gold','Silver','Bronze']\n",
    "combined_medalists=combined_medalists[np.isnan(combined_medalists['Gold'])==False]\n",
    "ax = combined_medalists.plot.bar(stacked=True,color={'Bronze':'Brown','Silver':'Silver','Gold':'Gold'},title='Medal Type');\n",
    "ax.set_ylabel('Number of medals',fontsize=15)\n",
    "ax.set_xlabel('Team',fontsize=15)\n",
    "ax.set_title('Top Countries in Gold medals in Summer games',fontsize=17)\n",
    "ax.tick_params(axis='x', labelsize=12)\n",
    "ax.tick_params(axis='y',labelsize=12)\n",
    "plt.xticks(rotation=45)\n",
    "ax.figure.set_size_inches(10,7)"
   ]
  },
  {
   "cell_type": "markdown",
   "id": "194426d1",
   "metadata": {},
   "source": [
    "## USA also number one in terms of gold medals"
   ]
  },
  {
   "cell_type": "markdown",
   "id": "G-UqkcIL8i-5",
   "metadata": {
    "id": "G-UqkcIL8i-5"
   },
   "source": [
    "# Q3 Top teams in winter games\n",
    "## Winter Results"
   ]
  },
  {
   "cell_type": "code",
   "execution_count": 50,
   "id": "8hqaVOrdlSQI",
   "metadata": {
    "colab": {
     "base_uri": "https://localhost:8080/",
     "height": 502
    },
    "id": "8hqaVOrdlSQI",
    "outputId": "3a304033-93f0-4e99-bb4e-d114db79c479"
   },
   "outputs": [
    {
     "data": {
      "image/png": "[encoded data removed]",
      "text/plain": [
       "<Figure size 600x400 with 1 Axes>"
      ]
     },
     "metadata": {
      "needs_background": "light"
     },
     "output_type": "display_data"
    }
   ],
   "source": [
    "df_medalist_winter = df_medalist.loc[df_medalist['Season']=='Winter']\n",
    "fig,axs=plt.subplots(1,1,dpi=100)\n",
    "axs.set_ylabel('Number of medals',fontsize=15)\n",
    "axs.set_xlabel('Country',fontsize=15)\n",
    "axs.set_title('Most collected medals in Winter games across history',fontsize=15)\n",
    "axs=df_medalist_winter['Team'].value_counts().head(5).plot(kind='bar',color='Blue')\n",
    "plt.xticks(rotation=45)\n",
    "ax.figure.set_size_inches(10,7)"
   ]
  },
  {
   "cell_type": "markdown",
   "id": "94fde7ad",
   "metadata": {},
   "source": [
    "## Canada number one in winter games"
   ]
  },
  {
   "cell_type": "code",
   "execution_count": 51,
   "id": "f_Vkwof78c-x",
   "metadata": {
    "colab": {
     "base_uri": "https://localhost:8080/",
     "height": 502
    },
    "id": "f_Vkwof78c-x",
    "outputId": "795c9687-b307-46fc-bbe0-55f46e3f8fbd"
   },
   "outputs": [
    {
     "data": {
      "image/png": "[encoded data removed]",
      "text/plain": [
       "<Figure size 720x504 with 1 Axes>"
      ]
     },
     "metadata": {
      "needs_background": "light"
     },
     "output_type": "display_data"
    }
   ],
   "source": [
    "\n",
    "df_medalist_team_Gold = df_medalist_winter.loc[df_medalist['Medal'] == 'Gold']\n",
    "df_medalist_team_Silver = df_medalist_winter.loc[df_medalist['Medal']=='Silver']\n",
    "df_medalist_team_Bronze = df_medalist_winter.loc[df_medalist['Medal']=='Bronze']\n",
    "\n",
    "top_Gold_winter=df_medalist_team_Gold['Team'].value_counts().head(5)\n",
    "top_Silver_winter=df_medalist_team_Silver['Team'].value_counts().head(5)\n",
    "top_Bronze_winter=df_medalist_team_Bronze['Team'].value_counts().head(5)\n",
    "combined_medalists=pd.concat([top_Gold_winter,top_Silver_winter,top_Bronze_winter],axis=1,join='outer')\n",
    "combined_medalists.columns=['Gold','Silver','Bronze']\n",
    "combined_medalists=combined_medalists[np.isnan(combined_medalists['Gold'])==False]\n",
    "ax = combined_medalists.plot.bar(stacked=True,color={'Bronze':'Brown','Silver':'Silver','Gold':'Gold'},title='Medal Type');\n",
    "ax.set_ylabel('Number of medals',fontsize=15)\n",
    "ax.set_xlabel('Team',fontsize=15)\n",
    "ax.set_title('Top Countries in Gold medals in winter games',fontsize=17)\n",
    "ax.tick_params(axis='x', labelsize=12)\n",
    "ax.tick_params(axis='y',labelsize=12)\n",
    "plt.xticks(rotation=45)\n",
    "ax.figure.set_size_inches(10,7)"
   ]
  },
  {
   "cell_type": "markdown",
   "id": "23acc095",
   "metadata": {},
   "source": [
    "## Canada number one in gold medals winter games"
   ]
  },
  {
   "cell_type": "markdown",
   "id": "eZFhWXEZ84fo",
   "metadata": {
    "id": "eZFhWXEZ84fo"
   },
   "source": [
    "### It seems like in the winter olympics for Gold medals Canada is the top country followed by soviet union and norway then the USA is in 4th place which is to be expected since the top 3 countries have the winter season most of the year and there main focus is on the winter games "
   ]
  },
  {
   "cell_type": "markdown",
   "id": "bXJEb6RumlO2",
   "metadata": {
    "id": "bXJEb6RumlO2"
   },
   "source": [
    "### For the summer games in Gold medals USA is the top country followed by  Soviet Union and Germany but its not even a close competition unlike the Winter games."
   ]
  },
  {
   "cell_type": "markdown",
   "id": "sjPCEOwy9JMk",
   "metadata": {
    "id": "sjPCEOwy9JMk"
   },
   "source": [
    "### Lets dive deeper and try and find out why does the USA is dominating the summer games and if we can find any relations between the sports that gets the usa the most medals and their players height and weight compared to othe players"
   ]
  },
  {
   "cell_type": "markdown",
   "id": "hC6AziAlnAoU",
   "metadata": {
    "id": "hC6AziAlnAoU"
   },
   "source": [
    "# Q4.A \n",
    "### What is the sport that got the USA the most modeals across history?"
   ]
  },
  {
   "cell_type": "code",
   "execution_count": 52,
   "id": "-4Ercegn8pAZ",
   "metadata": {
    "colab": {
     "base_uri": "https://localhost:8080/",
     "height": 766
    },
    "id": "-4Ercegn8pAZ",
    "outputId": "0223d79d-af9e-4a27-f3c2-1971a26b329f"
   },
   "outputs": [
    {
     "data": {
      "image/png": "[encoded data removed]",
      "text/plain": [
       "<Figure size 1000x700 with 1 Axes>"
      ]
     },
     "metadata": {
      "needs_background": "light"
     },
     "output_type": "display_data"
    }
   ],
   "source": [
    "df_medalist_united_states = df_medalist.loc[df_medalist['Team']=='United States']\n",
    "fig,axs=plt.subplots(1,1,dpi=100)\n",
    "axs.set_ylabel('Number of medals',fontsize=15)\n",
    "axs.set_xlabel('Country',fontsize=15)\n",
    "axs.set_title('Top 5 sports that gained USA the most medals',fontsize=15)\n",
    "axs=df_medalist_united_states['Sport'].value_counts().head(5).plot(kind='bar',color='Purple')\n",
    "plt.xticks(rotation=45)\n",
    "axs.figure.set_size_inches(10,7)"
   ]
  },
  {
   "cell_type": "markdown",
   "id": "ToHElUIAztOZ",
   "metadata": {
    "id": "ToHElUIAztOZ"
   },
   "source": [
    "### It looks like Athletics is the golden game for USA and collected them most medals.\n",
    "### Lets try and see if there is a relation between the teams average height and winning in athletics for all teams."
   ]
  },
  {
   "cell_type": "markdown",
   "id": "xJo2dl6K5RRv",
   "metadata": {
    "id": "xJo2dl6K5RRv"
   },
   "source": [
    "# Q4.B\n",
    "### First lets see top 10 Countries in Athletics medals"
   ]
  },
  {
   "cell_type": "code",
   "execution_count": 53,
   "id": "o4vVnfNK5Qzm",
   "metadata": {
    "colab": {
     "base_uri": "https://localhost:8080/",
     "height": 502
    },
    "id": "o4vVnfNK5Qzm",
    "outputId": "f948eac3-15ea-4e09-e530-626591ac8a4d"
   },
   "outputs": [
    {
     "data": {
      "image/png": "[encoded data removed]",
      "text/plain": [
       "<Figure size 1000x700 with 1 Axes>"
      ]
     },
     "metadata": {
      "needs_background": "light"
     },
     "output_type": "display_data"
    }
   ],
   "source": [
    "df_medalist_athletics = df_medalist[df_medalist['Sport']==\"Athletics\"]\n",
    "fig,axs=plt.subplots(1,1,dpi=100)\n",
    "axs.set_ylabel('Number of medals',fontsize=15)\n",
    "axs.set_xlabel('Country',fontsize=15)\n",
    "axs.set_title('Top Countries in Athletics Medals',fontsize=15)\n",
    "axs=df_medalist_athletics['Team'].value_counts().head(10).plot(kind='bar')\n",
    "plt.xticks(rotation=45)\n",
    "\n",
    "axs.figure.set_size_inches(10,7)"
   ]
  },
  {
   "cell_type": "markdown",
   "id": "302053cb",
   "metadata": {},
   "source": [
    "## As expected USA is nmber one followed by biritain and soviet union"
   ]
  },
  {
   "cell_type": "markdown",
   "id": "9m5dVXMS565a",
   "metadata": {
    "id": "9m5dVXMS565a"
   },
   "source": [
    "# Question 5.A\n",
    "## Lets see if there is a relation between the average height of the athletics participants and the number of medals won"
   ]
  },
  {
   "cell_type": "code",
   "execution_count": 54,
   "id": "00db5bea",
   "metadata": {
    "colab": {
     "base_uri": "https://localhost:8080/",
     "height": 774
    },
    "id": "T-Wv2ZHc4BJN",
    "outputId": "1174e16f-d24f-4dec-ee59-f6b5733e3643",
    "scrolled": false
   },
   "outputs": [
    {
     "data": {
      "image/png": "[encoded data removed]",
      "text/plain": [
       "<Figure size 1080x1080 with 2 Axes>"
      ]
     },
     "metadata": {
      "needs_background": "light"
     },
     "output_type": "display_data"
    }
   ],
   "source": [
    "df_medalist_athletics = df_olympic.loc[df_olympic['Sport']==\"Athletics\"]\n",
    "df_medalist_athletics=df_medalist_athletics[~df_medalist_athletics['Medal'].isna()]\n",
    "df_medalist_athletics['Height'].mean()\n",
    "total_medals=df_medalist_athletics['Team'].value_counts()\n",
    "average_heights=df_medalist_athletics.groupby('Team')['Height'].mean().sort_values(ascending=False)\n",
    "medals_height=pd.concat([total_medals,average_heights],axis=1)\n",
    "medals_height.columns=['Medals','Average Height']\n",
    "fig = plt.figure()\n",
    "\n",
    "ax = medals_height['Medals'].sort_values(ascending=False).head(10).plot(kind='bar', use_index=True)\n",
    "plt.xticks(rotation=45)\n",
    "ax2 = ax.twinx()\n",
    "\n",
    "ax2.plot(medals_height.sort_values('Medals',ascending=False)['Average Height'].head(10), linestyle='-', marker='o', linewidth=2.0,color='red')\n",
    "\n",
    "\n",
    "\n",
    "ax.set_ylabel('Number of Medals',fontsize=15)\n",
    "ax.set_xlabel('Country',fontsize=15)\n",
    "ax.set_title('Average Height compared to Number of Medals in Athletics',fontsize=15)\n",
    "ax.figure.set_size_inches(15,15)\n",
    "\n",
    "ax2.set_ylabel('Average Height',fontsize=15);\n"
   ]
  },
  {
   "cell_type": "markdown",
   "id": "617280c1",
   "metadata": {},
   "source": [
    "## since the red line which is height is fluctuating even though the medals are decreasing that means that for the top 10 countries height doesnt play a huge role in terms of winning."
   ]
  },
  {
   "cell_type": "markdown",
   "id": "73c8a35b",
   "metadata": {
    "colab": {
     "base_uri": "https://localhost:8080/"
    },
    "id": "5bUwMUxq8z7G",
    "outputId": "048c7840-113e-4594-907a-3e03effb942d"
   },
   "source": [
    "# Question 5.B\n",
    "## For the top teams there seems to be no relation but what about all the teams\n"
   ]
  },
  {
   "cell_type": "code",
   "execution_count": 55,
   "id": "25424719",
   "metadata": {},
   "outputs": [
    {
     "data": {
      "image/png": "[encoded data removed]",
      "text/plain": [
       "<Figure size 900x900 with 1 Axes>"
      ]
     },
     "metadata": {
      "needs_background": "light"
     },
     "output_type": "display_data"
    }
   ],
   "source": [
    "fig,ax=plt.subplots(1,1,dpi=100)\n",
    "ax.set_ylabel('Number of Medals',fontsize=15)\n",
    "ax.set_xlabel('Average Height',fontsize=15)\n",
    "ax.set_title('Average Height compared to Number of Medals in Athletics',fontsize=15)\n",
    "ax.figure.set_size_inches(9,9)\n",
    "ax=ax.scatter(average_heights,total_medals)"
   ]
  },
  {
   "cell_type": "markdown",
   "id": "8c2de6b9",
   "metadata": {},
   "source": [
    "## We can now see that there is a partly positive relation at the end of the graph between the average height of the teams and the number of medals gained. Which means that in athletics height has some role in winning."
   ]
  },
  {
   "cell_type": "markdown",
   "id": "504468da",
   "metadata": {},
   "source": [
    "# Question 6.A\n",
    "### From the graph we can see that for Canada the number 1 country in winter games Ice Hokey has gained it the most medals."
   ]
  },
  {
   "cell_type": "code",
   "execution_count": 56,
   "id": "95316fc6",
   "metadata": {},
   "outputs": [
    {
     "data": {
      "image/png": "[encoded data removed]",
      "text/plain": [
       "<Figure size 1000x700 with 1 Axes>"
      ]
     },
     "metadata": {
      "needs_background": "light"
     },
     "output_type": "display_data"
    }
   ],
   "source": [
    "df_medalist_united_states = df_medalist.loc[df_medalist['Team']=='Canada']\n",
    "fig,axs=plt.subplots(1,1,dpi=100)\n",
    "axs.set_ylabel('Number of medals',fontsize=15)\n",
    "axs.set_xlabel('Country',fontsize=15)\n",
    "axs.set_title('Top 5 sports that gained Canada the most medals',fontsize=15)\n",
    "axs=df_medalist_united_states['Sport'].value_counts().head(5).plot(kind='bar',color='Purple')\n",
    "plt.xticks(rotation=45)\n",
    "axs.figure.set_size_inches(10,7)"
   ]
  },
  {
   "cell_type": "markdown",
   "id": "92b50347",
   "metadata": {},
   "source": [
    "## Ice hockey is the golden game for Canda bringing it the most medals followed by rowing"
   ]
  },
  {
   "cell_type": "markdown",
   "id": "56007698",
   "metadata": {},
   "source": [
    "# Question 6.B\n",
    "### Top  countries in Ice Hockey"
   ]
  },
  {
   "cell_type": "code",
   "execution_count": 57,
   "id": "f25f9c5a",
   "metadata": {},
   "outputs": [
    {
     "data": {
      "image/png": "[encoded data removed]",
      "text/plain": [
       "<Figure size 1000x700 with 1 Axes>"
      ]
     },
     "metadata": {
      "needs_background": "light"
     },
     "output_type": "display_data"
    }
   ],
   "source": [
    "df_medalist_iceHockey = df_medalist[df_medalist['Sport']==\"Ice Hockey\"]\n",
    "fig,axs=plt.subplots(1,1,dpi=100)\n",
    "axs.set_ylabel('Number of medals',fontsize=15)\n",
    "axs.set_xlabel('Country',fontsize=15)\n",
    "axs.set_title('Top Countries in Ice Hockey Medals',fontsize=15)\n",
    "axs=df_medalist_iceHockey['Team'].value_counts().head(10).plot(kind='bar')\n",
    "plt.xticks(rotation=45)\n",
    "axs.figure.set_size_inches(10,7);"
   ]
  },
  {
   "cell_type": "markdown",
   "id": "a7997132",
   "metadata": {},
   "source": [
    "## Canada is number one closely followed by USA in terms of medals from hockey."
   ]
  },
  {
   "cell_type": "markdown",
   "id": "2df7d9c7",
   "metadata": {},
   "source": [
    "# Question 7.A"
   ]
  },
  {
   "cell_type": "markdown",
   "id": "6c42bd41",
   "metadata": {},
   "source": [
    "### In the following graph the red line shows the number of medals while the bars show the Average BMI of the team so if there is a relation between the red line should go down as the blue bars go down but we can see that this is not the case as the BMI goes down the number of medals  fluctuate.\n",
    "### So for the Top teams BMI doesnt really matter"
   ]
  },
  {
   "cell_type": "code",
   "execution_count": 58,
   "id": "8705d482",
   "metadata": {
    "scrolled": false
   },
   "outputs": [
    {
     "data": {
      "image/png": "[encoded data removed]",
      "text/plain": [
       "<Figure size 1080x1080 with 2 Axes>"
      ]
     },
     "metadata": {
      "needs_background": "light"
     },
     "output_type": "display_data"
    }
   ],
   "source": [
    "df_medalist_iceHockey.loc[df_medalist_iceHockey['Team']=='Canada'].size\n",
    "\n",
    "df_medalist_iceHockey = df_olympic.loc[df_olympic['Sport']==\"Ice Hockey\"]\n",
    "\n",
    "df_medalist_iceHockey['BMI'].mean()\n",
    "\n",
    "total_medals_iceHockey=df_medalist_iceHockey['Team'].value_counts()\n",
    "\n",
    "average_bmi=df_medalist_iceHockey.groupby('Team')['BMI'].mean().sort_values(ascending=False)\n",
    "medals_bmi=pd.concat([total_medals_iceHockey,average_bmi],axis=1)\n",
    "medals_bmi.columns=['Medals','Average BMI']\n",
    "fig = plt.figure()\n",
    "\n",
    "ax = medals_bmi['Medals'].sort_values(ascending=False).head(10).plot(kind='bar', use_index=True)\n",
    "plt.xticks(rotation=45)\n",
    "ax2 = ax.twinx()\n",
    "\n",
    "ax2.plot(medals_bmi.sort_values('Medals',ascending=False)['Average BMI'].head(10), linestyle='-', marker='o', linewidth=2.0,color='red')\n",
    "\n",
    "\n",
    "\n",
    "ax.set_ylabel('Number of Medals',fontsize=15)\n",
    "ax.set_xlabel('Country',fontsize=15)\n",
    "ax.set_title('Average BMI compared to Number of Medals in Ice Hockey',fontsize=15)\n",
    "ax.figure.set_size_inches(15,15)\n",
    "\n",
    "ax2.set_ylabel('Average BMI',fontsize=15);"
   ]
  },
  {
   "cell_type": "markdown",
   "id": "da2f6553",
   "metadata": {},
   "source": [
    "## The BMI is fluctuating as the number of medas gained decrease so there isnt a clear relationship for the top teams but what about all the teams?"
   ]
  },
  {
   "cell_type": "markdown",
   "id": "4da68173",
   "metadata": {},
   "source": [
    "# Question 7.B"
   ]
  },
  {
   "cell_type": "code",
   "execution_count": 59,
   "id": "6e7ddd39",
   "metadata": {},
   "outputs": [
    {
     "data": {
      "image/png": "[encoded data removed]",
      "text/plain": [
       "<Figure size 900x900 with 1 Axes>"
      ]
     },
     "metadata": {
      "needs_background": "light"
     },
     "output_type": "display_data"
    }
   ],
   "source": [
    "fig,ax=plt.subplots(1,1,dpi=100)\n",
    "ax.set_ylabel('Number of Medals',fontsize=15)\n",
    "ax.set_xlabel('Average BMI',fontsize=15)\n",
    "ax.set_title('Average BMI compared to Number of Medals in Athletics',fontsize=15)\n",
    "ax.figure.set_size_inches(9,9)\n",
    "ax=ax.scatter(average_bmi,total_medals_iceHockey)"
   ]
  },
  {
   "cell_type": "markdown",
   "id": "1258f3ff",
   "metadata": {},
   "source": [
    "## We can see there is positive relation that as the average BMI increases the number of medals increase. So, BMI has a role in Ice Hockey medals."
   ]
  },
  {
   "cell_type": "markdown",
   "id": "3919f088",
   "metadata": {},
   "source": [
    "# Question 8 \n",
    "### Athletes that brought the most medals to their counries?"
   ]
  },
  {
   "cell_type": "code",
   "execution_count": 60,
   "id": "f53b208d",
   "metadata": {},
   "outputs": [],
   "source": [
    "df_sorted=df_olympic.sort_values(by=['All Time Total'], ascending=False)[['Name','All Time Total']].drop_duplicates().head(10)"
   ]
  },
  {
   "cell_type": "code",
   "execution_count": 61,
   "id": "6efb880d",
   "metadata": {},
   "outputs": [
    {
     "data": {
      "image/png": "[encoded data removed]",
      "text/plain": [
       "<Figure size 900x900 with 1 Axes>"
      ]
     },
     "metadata": {
      "needs_background": "light"
     },
     "output_type": "display_data"
    }
   ],
   "source": [
    "df_sorted=df_olympic.sort_values(by=['All Time Total'], ascending=False)[['Name','All Time Total','Team']].drop_duplicates().head(10)\n",
    "fig,axs=plt.subplots(1,1,dpi=90)\n",
    "axs.set_ylabel('Athlete',fontsize=15)\n",
    "axs.set_xlabel('Total Medals of all time',fontsize=15)\n",
    "axs.invert_yaxis()\n",
    "axs.set_title('Athletes that Brought Most medals to their Country',fontsize=15)\n",
    "bars = axs.barh(df_sorted['Name'],df_sorted['All Time Total'])\n",
    "axs.figure.set_size_inches(10,10)\n",
    "c=0\n",
    "t=np.array(df_sorted['Team'])\n",
    "t[0]='USA'\n",
    "for i, v in enumerate(df_sorted['All Time Total']):\n",
    "    axs.text(v + 0.2, i , t[c], color='red', fontweight='bold')\n",
    "    c+=1"
   ]
  },
  {
   "cell_type": "markdown",
   "id": "4f52cfae",
   "metadata": {},
   "source": [
    "### From the above graph athletes with the most medals is Michael Phelps he brought with 28 medals to the USA. Followed by Larysa in the soviet Union"
   ]
  }
 ],
 "metadata": {
  "colab": {
   "collapsed_sections": [],
   "name": "DE_try_1.ipynb",
   "provenance": []
  },
  "kernelspec": {
   "display_name": "Python 3",
   "language": "python",
   "name": "python3"
  },
  "language_info": {
   "codemirror_mode": {
    "name": "ipython",
    "version": 3
   },
   "file_extension": ".py",
   "mimetype": "text/x-python",
   "name": "python",
   "nbconvert_exporter": "python",
   "pygments_lexer": "ipython3",
   "version": "3.9.3"
  }
 },
 "nbformat": 4,
 "nbformat_minor": 5
}
